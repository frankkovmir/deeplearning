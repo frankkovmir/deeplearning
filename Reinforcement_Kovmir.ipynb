{
  "cells": [
    {
      "cell_type": "code",
      "execution_count": null,
      "metadata": {
        "colab": {
          "base_uri": "https://localhost:8080/"
        },
        "id": "ZY13_Wh97UYz",
        "outputId": "e6c42f38-7bf7-4f2d-b854-1c4c2500a590"
      },
      "outputs": [
        {
          "output_type": "stream",
          "name": "stdout",
          "text": [
            "Mounted at /content/drive\n"
          ]
        }
      ],
      "source": [
        "from google.colab import drive\n",
        "drive.mount('/content/drive')"
      ],
      "id": "ZY13_Wh97UYz"
    },
    {
      "cell_type": "code",
      "execution_count": null,
      "metadata": {
        "colab": {
          "base_uri": "https://localhost:8080/"
        },
        "id": "08abfc47",
        "outputId": "21d5ee0e-4aab-4176-b5fb-e1342749a5dc"
      },
      "outputs": [
        {
          "output_type": "stream",
          "name": "stdout",
          "text": [
            "15072\n"
          ]
        }
      ],
      "source": [
        "import io\n",
        "import nbformat as nbf\n",
        "import re\n",
        "\n",
        "file_path = \"/content/drive/MyDrive/Colab Notebooks/Reinforcement_Kovmir.ipynb\"\n",
        "with io.open(file_path, 'r', encoding='utf-8') as f:\n",
        "  nb = nbf.read(f, 4)\n",
        "\n",
        "\n",
        "word_count = 0\n",
        "for cell in nb.cells:\n",
        "    if cell.cell_type == \"markdown\":\n",
        "        words = re.findall(r'\\b\\w+\\b', cell.source)\n",
        "        word_count += len(words)\n",
        "print(word_count)\n"
      ],
      "id": "08abfc47"
    },
    {
      "cell_type": "markdown",
      "metadata": {
        "id": "fc2a8c09"
      },
      "source": [
        "<span style=\"color:DarkBlue;font-size:18px\">Semesterabschließende schriftliche Ausarbeitung im Modul Deep Learning (WS2023)</span>\n",
        "\n",
        "<span style=\"color:DarkBlue;font-size:32px\">Reinforcement Learning am Beispiel eines Endlos-Scrollers mit Pygame</span>\n",
        "\n",
        "<span style=\"color:DarkBlue;font-size:18px\"> Bearbeitet von Frank Kovmir</span>"
      ],
      "id": "fc2a8c09"
    },
    {
      "cell_type": "markdown",
      "metadata": {
        "id": "e9ddc6b4"
      },
      "source": [
        "# Inhaltsverzeichnis"
      ],
      "id": "e9ddc6b4"
    },
    {
      "cell_type": "markdown",
      "metadata": {
        "id": "5a3c0d84"
      },
      "source": [
        "\n",
        "\n",
        "\n",
        "\n",
        "1. [Einleitung](#einleitung)<br>\n",
        "2. [Technische Voraussetzungen](#theorie) <br>\n",
        "3. [Einführung ins Reinforcement Learning](#einführung)<br>\n",
        "4. [Entwicklung des Endlos-Scrollers](#entwicklung)<br>\n",
        "5. [Erstellen des neuronalen Netzwerkes](#netzwerk)<br>\n",
        "5. [Integration der KI in das Spiel](#integration)<br>\n",
        "6. [Training des Modells](#training)<br>\n",
        "7. [Evaluation und Test](#test)<br>\n",
        "8. [Fazit](#fazit)<br>\n",
        "9. [Literaturverzeichnis](#literatur)<br>\n",
        "10. [Eigenständigkeitserklärung](#eigenständigkeitserklärung)"
      ],
      "id": "5a3c0d84"
    },
    {
      "cell_type": "markdown",
      "metadata": {
        "id": "838a3b8a"
      },
      "source": [
        "<a name=\"einleitung\"></a>\n",
        "## 1. Einleitung"
      ],
      "id": "838a3b8a"
    },
    {
      "cell_type": "markdown",
      "source": [
        "Die vorliegende Arbeit beschäftigt sich mit der Entwicklung und dem Training eines Deep-Q-Networks (DQN) für ein selbst programmiertes Videospiel namens \"Space Dodger\". Das Ziel ist es, einen Agenten mittels Reinforcement Learning (RL) so zu trainieren, dass dieser selbstständig in der Lage ist, Hindernissen (in Form einer Kette von Asteroiden) in dem Spiel auszuweichen.\n",
        "\n",
        "Im Rahmen der Arbeit wird im ersten Schritt das Spiel in einer Variante erstellt, in der es ein Mensch spielen kann. Im nächsten Schritt wird dann ein neuronales Netzwerk entwickelt und ein Trainingsskript geschrieben. Im Rahmen des Trainings soll das Netzwerk so trainiert werden, dass es auf Basis der aktuellen Spielumgebung eine qualifizierte Entscheidung über die zu ergreifenden Aktion treffen kann. Die optimale Strategie soll der Agent über die Vergabe von Belohnungen bzw. Bestrafungen im Rahmen von mehreren Spieliterationen (Episoden) erlernen. Schlussendlich wird das Spiel noch insofern modifiziert, dass es die notwendigen Informationen für das Training an den Agenten senden kann. Für das Training bzw. das neuronale Netz wird das Python Paket \"Pytorch\" genutzt, für den Aufbau des Spiels das Paket \"Pygame\".[1][2]\n",
        "\n",
        "Es werden im Verlauf der Ausarbeitung insgesamt fünf Skripte erstellt:\n",
        "\n",
        "\n",
        "1.   Ein \"Human.py\" Skript --> enthält unmodifizierten Spielecode\n",
        "2.   Ein \"Model.py\" Skript --> enthält den Code für das DQN\n",
        "3.   Ein \"Main.py\" Skript --> enthält den AI-modifizierten Spielecode\n",
        "4.   Ein \"Train.py\" Skript --> enthält den Code um das Training des DQN zu starten\n",
        "5.  Ein \"Test.py\" Skript --> enthält den Code um ein gespeichertes Model einzulesen und den Agenten spielen zu sehen.\n",
        "\n",
        "\n",
        "\n",
        "\n"
      ],
      "metadata": {
        "id": "2aHFp2j4WhQp"
      },
      "id": "2aHFp2j4WhQp"
    },
    {
      "cell_type": "markdown",
      "metadata": {
        "id": "u7O-2PPF9h6I"
      },
      "source": [
        "<a name=\"theorie\"></a>\n",
        "## 2. Technische Voraussetzungen"
      ],
      "id": "u7O-2PPF9h6I"
    },
    {
      "cell_type": "markdown",
      "metadata": {
        "id": "4YAzvf1095QD"
      },
      "source": [
        "Aufgrund von Limitierung in Jupyter Notebooks im Zusammenhang mit Pygame und dem Laden von lokalen Dateien, kann der Code nicht in einem funktionsfähigen Zustand im Notebook Format bereitgestellt werden. Stattdessen ist der gesamte Code als Repo auf Gitlab mittels dem unten zur Verfügung gestellten Link einsehbar.\n",
        "\n",
        "Innerhalb des Notebooks wird zur Erklärung diverser Codestellen zwar dennoch Code eingefügt, dieser ist aber nicht lauffähig.\n",
        "\n",
        "Für einen Test des bereits vorhandenen, über 1200 Episoden trainierten Modells, bzw. für das eigene Training ist es daher notwendig, das Repo zu klonen, die Pakete zu installieren (eine \"requirements.txt\" liegt dem Repo bei) und die Skripte \"train.py\" oder \"test.py\" laufen zu lassen.\n",
        "\n",
        "Getestet wurde ausschließlich auf dem Betriebssystem Windows 11 in der 64-Bit Version.\n",
        "\n",
        "\n",
        "Link zum Gitlab Repo:\n",
        "\n",
        "https://github.com/frankkovmir/deeplearning"
      ],
      "id": "4YAzvf1095QD"
    },
    {
      "cell_type": "markdown",
      "metadata": {
        "id": "71d7b348"
      },
      "source": [
        "\n",
        "\n",
        "\n",
        "\n",
        "\n",
        "<a name=\"einführung\"></a>\n",
        "## 3. Einführung ins Reinforcement Learning"
      ],
      "id": "71d7b348"
    },
    {
      "cell_type": "markdown",
      "metadata": {
        "id": "e48b8b76"
      },
      "source": [
        "Beim RL handet es sich um eine Spezifizierung des Machine Learnings bei der es darum geht, dass ein KI-Agent lernt, sich in einer gegebenen Umgebung optimal zu verhalten. Der Agent führt Aktionen durch und erhält für diese entweder eine Belohnung oder Bestrafung, wobei die Maximierung der Belohnung durch den Agenten angestrebt werden sollte. Die Umgebung ist deterministisch, daher sind alle im Folgenden vorgestellten Gleichungen auch deterministisch formuliert, um die Komplexität zu reduzieren.[3]\n",
        "\n",
        "Um das Lernen und die Entscheidungsfindung des Agenten zu strukturieren bzw. damit der Agent im Laufe der Zeit lernen kann, welche Zustände die höchste kumulative Belohnung liefern, wird der Markov-Entscheidungsprozess (Markov-Decision-Process, MDP) als mathematisches Modell genutzt. Dabei werden  folgende Schritte durchlaufen:\n",
        "\n",
        "\n",
        "<br>\n",
        "\n",
        "1.   Der Agent erhält einen Zustand (State, s0) von der Umgebung, welcher möglichst viele relevante Informationen beinhaltet. Im Kontext des \"Space Dodger\"-Spiels wäre jeder Zustand eine spezifische Konfiguration des Spielfeldes, d.h. es würde z.B. die Position des Raumschiff, die Position der Asteroiden und des Lochs, die Geschwindigkeit und das Level übergeben werden.\n",
        "2.   Der Agent wählt eine Aktion (a0) auf Grundlage des Zustands (s0). In (mindestens) der ersten Iteration handelt es sich um eine rein zufällig gewählte Aktion, da dem Agenten die Konsequenzen seiner Handlungen noch nicht bekannt sind. In dem Spiel hat der Agent die Wahl zwischen zwei Aktionen, der Bewegung nach links, oder nach rechts.\n",
        "3. Nach Durchführung der Aktion befindet sich der Agent in einem aktualisierten Zustand s1.\n",
        "4. Nun erhält der Agent eine Belohnung oder eine Bestrafung (r1). Im vorliegenden Kontext wird das erfolgreiche Navigieren durch das Loch im Asteroidengürtel belohnt, und eine Kollision mit einem Asteroiden wird bestraft.[4]\n",
        "\n",
        "<br>\n",
        "\n",
        "In der Konsequenz bedeutet dies, dass der nächste Zustand eines KI-Agenten alleine vom letzten übergebenen Zustand abhängt und nicht aus einer Menge aller vorherigen Zustände.\n",
        "\n",
        "Um das Konzept des RL weiter zu vertiefen, ist es wichtig, die übergeordneten Ansätze, nämlich modellbasiertes und modellfreies Lernen, zu unterscheiden. Diese beiden Ansätze definieren, wie ein RL-Agent aus seinen Erfahrungen lernt und Entscheidungen trifft.\n",
        "\n",
        "Beim modellbasierten Lernen verfügt der Agent über ein Modell der Umgebung, welches ihm hilft, die Folgen seiner Aktionen vorherzusagen. Während ein Status lediglich eine Momentaufnahme des aktuellen Zustands der Umgebung aus der Sicht des Agenten darstellt (z.B. die Position des Raumschiffs und der Asteroiden) beinhaltet ein Modell der Umgebung von Natur aus ein Verständnis darüber, wie Aktionen Zustände verändern und welche Belohnungen mit diesen Änderungen verbunden sind.\n",
        "\n",
        "Dieses Modell kann entweder vorab bekannt sein oder vom Agenten während des Lernprozesses erstellt werden. Ein solches Umgebungsmodell im RL umfasst typischerweise:\n",
        "\n",
        "\n",
        "<br>\n",
        "\n",
        "*   eine Übergangsfunktion, die die Wahrscheinlichkeit angibt, mit der der Agent vom aktuellen Zustand s1 in einen neuen Zustand s2 übergeht, wenn er Aktion a ausführt.\n",
        "*   eine Belohnungsfunktion, die die Belohnung für den Übergang angiebt.\n",
        "<br>\n",
        "<br>\n",
        "\n",
        "Im Gegensatz dazu hat der Agent beim modellfreien Lernen kein explizites Modell der Umgebung. Stattdessen lernt er direkt aus der Interaktion mit der Umgebung, ohne zu versuchen, ihre Dynamik zu verstehen oder vorherzusagen. Der Agent konzentriert sich darauf, basierend auf den erhaltenen Belohnungen herauszufinden, welche Aktionen in welchen Zuständen am vorteilhaftesten sind.[5]\n",
        "\n",
        "Ein weiterer wichtiger Aspekt im RL ist der Unterschied zwischen On-Policy- und Off-Policy-Algorithmen. On-Policy-Algorithmen lernen den Wert von Aktionen basierend auf der derzeit verfolgten Politik (Strategie) des Agenten. Das bedeutet, dass der Agent seine aktuelle Politik basierend auf den Erfahrungen, die er unter dieser Politik macht, bewertet und verbessert. Im Gegensatz dazu lernen Off-Policy-Algorithmen den Wert von Aktionen basierend auf einer anderen Politik als der gerade ausgeführten.[6]\n",
        "\n",
        "Das sogennante Q-Learning ist ein Beispiel für einen Off-Policy-Algorithmus, da es den Wert von Aktionen unabhängig von der aktuellen Politik des Agenten lernt. Der Agent kann also eine Politik verfolgen, die Exploration (Ausprobieren) priorisiert, während er gleichzeitig eine andere Politik bewertet und verbessert, die auf die Maximierung der Belohnungen abzielt.[7]\n",
        "In der vorliegenden Arbeit wurde ein modellfreier, Off-Policy-Ansatz nach der Methode des Q-Learnings gewählt.\n",
        "\n",
        "Im Rahmen des Q-Learnings wird zunächst eine Q-Tabelle erstellt, in der die Werte für alle möglichen Zustands-Aktions-Paare gespeichert werden. Diese Tabelle dient dazu, die vorteilhaftesten Aktionen in jedem Zustand zu schätzen. In einfachen Umgebungen, in denen die Anzahl der Zustände und Aktionen begrenzt ist, ist eine solche Tabelle praktikabel und vergleichsweise leicht verständlich.\n",
        "\n",
        "In einem hypothetischen Spiel, in dem ein Agent sich zwischen zwei Aktionen wie z.B. links oder rechts bewegen entscheiden kann und es drei mögliche Zustände gibt, kann eine Q-Tabelle wie folgt aussehen:\n",
        "\n",
        "\n",
        "<br>\n",
        "\n",
        "| Zustand | Links | Rechts |\n",
        "| :- | -: | :-: |\n",
        "| Zustand 1 | 0.5 | 0.7\n",
        "| Zustand 2 | 0.1 | -0.4\n",
        "| Zustand 3 | 0.0 | 0.2\n",
        "\n",
        "<br>\n",
        "\n",
        "In dieser Tabelle repräsentiert jeder Eintrag den erwarteten Gesamtnutzen (die Q-Werte) für die jeweilige Aktion in jedem Zustand.\n",
        "\n",
        "Mit zunehmender Komplexität der Umgebung wird jedoch die Verwendung einer Tabelle unpraktikabel. Stattdessen wird in komplexeren Umgebungen die Q-Tabelle durch eine sogenannte Q-Funktion abgelöst. Diese Funktion approximiert für jeden Zustand und jede Aktion den erwarteten Gesamtnutzen, also die Summe aller zukünftigen Belohnungen. Die Q-Funktion wird durch die Bellman-Gleichung  (welche ein Teil der Funktion ist) aktualisiert, was den Lernprozess des Agenten erst ermöglicht.[8]\n",
        "\n",
        "Genauer ermöglicht die Bellmann-Gleichung die Verbindung des Wertes einer Aktion in einem bestimmten Zustand mit den Werten der besten Aktionen in den nachfolgenden Zuständen.\n",
        "\n",
        "Insgesamt sieht die Aktualisierungsregel wie folgt aus:\n",
        "<br>\n",
        "<br>\n",
        "Q(s,a)←Q(s,a)+α(r+γmaxₐ'Q(s,a')-Q(s,a))\n",
        "<br>\n",
        "<br>\n",
        "Dabei sind die einzelnen Parameter wie folgt definiert:\n",
        "\n",
        "<br>\n",
        "\n",
        "*   Q(s,a): Der aktuelle Q-Wert für den Zustand s und die Aktion a.\n",
        "*   α: Die Lernrate, welche als Parameter übergeben wird.\n",
        "*   r: Die unmittelbare Belohnung für den Übergang in den neuen Zustand s' nach der Ausführung von Aktion a.\n",
        "*   γ: Der Diskontierungsfaktor, der die Wichtigkeit zukünftiger Belohnungen angibt.\n",
        "* maxₐ'Q(s',a'): Der maximale Q-Wert für den neuen Zustand s', der aus allen möglichen Aktionen a' im neuen Zustand resultiert.[9]\n",
        "\n",
        "<br>\n",
        "\n",
        "Eine der leistungsfähigsten Möglichkeiten die Q-Funktion in einer komplexen Umgebung einzusetzen stellen DQNs dar. Ein DQN nutzt ein neuronales Netzwerk, um die Q-Funktion zu approximieren. Dies ermöglicht es, kontinuierliche Zustandsräume und komplexe Muster zu verarbeiten und somit auch in komplexen Umgebungen mit einer großen Anzahl von Zuständen und Aktionen effektiv zu lernen.\n",
        "\n",
        "Das neuronale Netzwerk im DQN nimmt den Zustand der Umgebung als Eingabe und gibt die Q-Werte für jede mögliche Aktion aus. Durch das Training des neuronalen Netzwerks lernt der DQN-Agent, die Q-Werte für Aktionen in verschiedenen Zuständen zu schätzen und die Politik kontinuierlich zu verbessern.[10]\n",
        "\n",
        "Ein Schlüsselelement der DQN-Methode ist das Konzept des Experience Replay. Dabei speichert der Agent frühere Erfahrungen in einem Replay-Memory und verwendet zufällige Stichproben daraus, um das Netzwerk zu trainieren. Dies erhöht die Dateneffizienz und hilft, Korrelationen in der Abfolge von Beobachtungen zu reduzieren. Je nach verwendetem Replay-Memory lassen sich ein Standard Replay Memory und ein Prioritized Experience Replay unterscheiden. Bei ersterem werden die Erfahrungen in einem einfachen Puffer gespeichert und zufällige Stichproben werden für das Training genutzt. Hierbei hat jede gespeicherte Erfahrung dieselbe Wahrscheinlichkeit ausgewählt zu werden. Bei dem Priorisierungsansatz werden Erfahrungen hingegen basierend auf ihrer Priorität für das Training ausgewählt. Erfahrungen die zu einer größeren Veränderung des Modells führen, werden häufiger ausgewählt.[11]\n",
        "\n",
        "Gemessen wird dies über den Unterschied zwischen dem Q-Wert des aktuellen Zustands und dem des nächsten Zustand. Wenn sich der Q-Wert des nächsten Zustands stark vom Q-Wert des aktuellen Zustands unterscheidet, bedeutet dies, dass die Wichtigkeit hoch ist, unabhängig davon, ob der Q-Wert im nächsten Zustand steigt oder sinkt. Diese Abweichung wird Temporal Difference Error (TD-Fehler) genannt.\n",
        "\n",
        "Die Aktualisierungsregel im DQN folgt weiterhin der Bellman-Gleichung, jedoch werden Q-Werte hier durch das neuronale Netzwerk geschätzt. Die Q-Learning-Formel im Kontext eines DQNs sieht wie folgt aus:\n",
        "\n",
        "<br>\n",
        "Q(s,a)←Q(s,a)+α(r+γmaxₐ'Q(s',a';θ')-Q(s,a;θ))\n",
        "\n",
        "<br>\n",
        "\n",
        "Die neu eingeführten Variabeln θ und θ' repräsentieren die Parameter des neuronalen Netzwerks (Q-Netzwerk und Ziel-Q-Netzwerk). Es gibt also zwei Netzwerke, das Q-Netzwerk und das Zielnetzwerk (Target-Network). Während das Q-Netzwerk für die Auswahl der Aktionen des Agenten verantwortlich ist, dient das Zielnetzwerk als eine Art Schätzung für die \"korrekte\" Antwort. Es hilft dabei, die Güte der Entscheidungen des Q-Netzwerks zu bewerten.\n",
        "\n",
        "Um im nächsten Schritt zu messen, wie gut das Q-Netzwerk diese Aktualisierungsregel befolgt, muss eine Verlustfunktion in den Trainingsprozess integriert werden. Diese Funktion misst den Unterschied zwischen den vom Netzwerk vorhergesagten Q-Werten und den Q-Werten, die basierend auf den Rückmeldungen des Zielnetzwerks (Target Network) und den erhaltenen Belohnungen als \"korrekt\" angesehen werden. Die Verlustfunktion wird oft (so auch in dieser Ausarbeitung) als Mean Squared Error (MSE) des Temporal Difference (TD) Fehlers definiert, es sind aber auch andere Ansätze möglich. Zur fortlaufenden Aktualisierung der Gewichte des Q-Netzwerks, wird die Backpropagation-Methode angewendet. Dadurch werden die Netzwerkparameter basierend auf dem berechneten Verlust optimiert.[12]\n",
        "\n",
        "Innerhalb des DQN lassen sich verschiedene Typen unterscheiden. Neben dem in dieser Ausarbeitung genutzten klassischen DQN mit Standard Replay Memory gibt es auch die Möglichkeit ein Double DQN, Dueling DQN oder Prioritized Experience DQN zu nutzen, wobei jede Art spezifische Vor- und Nachteile aufweist.\n",
        "\n",
        "Ein DQN mit Prioritized Memory kann beispielsweise zwar das Lernen durch die Bevorzugung und Wiederverwendung wichtiger Erfahrungen verbessern, kann aber auch zu einer Verzerrung durch Überanpassung führen. Ähnlich verhält es sich bei einem Double DQN. Hier werden zwei identische neuronale Netzmodelle verwendet, wobei das sekundäre Modell, welches eine Kopie der letzten Episode des primären Modells ist, für die Schätzung der Q-Werte genutzt wird, während das erste alleine aus der Erfahrung lernt. Neben der komplexeren Implementierung ist auch hier Overfitting ein potentielles Problem, wobei in bestimmten Umgebungen die Ergebnisse stabiler als beim regulären DQN sein können.[13]\n",
        "\n"
      ],
      "id": "e48b8b76"
    },
    {
      "cell_type": "markdown",
      "metadata": {
        "id": "e6194b7d"
      },
      "source": [
        "<a name=\"entwicklung\"></a>\n",
        "## 4. Entwicklung des Endlos-Scrollers"
      ],
      "id": "e6194b7d"
    },
    {
      "cell_type": "markdown",
      "metadata": {
        "id": "6b086139"
      },
      "source": [
        "Für die Entwicklung des Spiels soll das Paket \"Pygame\" den notwendigen Rahmen bieten. Im wesentlichen bietet das Paket die Möglichkeit, Bilder darzustellen und so miteinander zu verknüpfen, dass der Eindruck einer Animation entsteht. Weiterhin ist es mit dem Paket auch möglich, Sounds abzuspielen und Spielereingaben zu registrieren.\n",
        "\n",
        "Zudem lässt sich über Pygame relativ einfach eine Kollisionserkennung über Rechtecke, oder (etwas umständlicher) über anliegende Masken erzielen. Diese Kollisionserkennung ist insbesondere dafür wichtig, um das Ende des Spiels zu registrieren und den Agenten (das neuronale Netz) entsprechend zu bestrafen. Da der Fokus der Ausarbeitung grundsätzlich auf den Deep Learning Aspekten liegen soll, wird der Pygame Code nur an zentralen Stellen näher erläutert.\n",
        "\n",
        "Zuerst werden die genutzten Module importiert."
      ],
      "id": "6b086139"
    },
    {
      "cell_type": "code",
      "source": [
        "import pygame\n",
        "import random"
      ],
      "metadata": {
        "colab": {
          "base_uri": "https://localhost:8080/"
        },
        "id": "G2W3E6MQEJa9",
        "outputId": "2169f0a1-38e3-47ba-a1cd-f2c55057cdb4"
      },
      "id": "G2W3E6MQEJa9",
      "execution_count": null,
      "outputs": [
        {
          "output_type": "stream",
          "name": "stdout",
          "text": [
            "pygame 2.5.2 (SDL 2.28.2, Python 3.10.12)\n",
            "Hello from the pygame community. https://www.pygame.org/contribute.html\n"
          ]
        }
      ]
    },
    {
      "cell_type": "markdown",
      "source": [
        "Das Zielszenario ist ein Spiel, bei dem sich mit konstanter Geschwindigkeit entlang der Y-Achse eine Kette von Asteroiden zum Spieler hin bewegt. Innerhalb der Kette gibt es ein Loch, durch welches der Spieler ein Raumschiff navigieren muss (Bewegung entlang der X-Achse), um das nächste Level zu erreichen. Sowohl die Position des Lochs, als auch die Größe sind randomisierte Parameter. Beim Übergang in ein neues Level erhöht sich die Geschwindigkeit der Asteroidenkette und das Ausweichen wird schwerer. Da die Geschwindigkeit des Raumschiffs aber konstant bleibt, gibt es ein natürliches Ende an dem Punkt, an dem die Bewegungsgeschwindigkeit des Raumschiffs nicht mehr ausreicht um das Loch zu erreichen. Diese natürliche Begrenzung ist wichtig, um die Episoden während des Trainings nicht überlang werden zu lassen. Insgesamt stehen also zwei Aktionen zur Verfügung, die Bewegung des Raumschiffs nach links, oder nach rechts.\n",
        "\n",
        "Für die bessere Übersicht wird Klassenbasiert gearbeitet. Der gesamte Spielecode befindet sich in der Klasse \"SpaceDodgerGame\".\n",
        "\n",
        "Um die Spielidee zu realisieren wird zuerst innerhalb des Konstruktors das Modul per pygame.init() initialisiert, wodurch im Hintergrund sämtliche notwendige Packete geladen werden. Weiterhin erfolgt im Konstruktor die Definition sämtlicher relevanter Startparameter (Spielgeschwindigkeit, Startlevel), sowie die Generierung der Objekte (Asteroiden, Raumschiff). Im Konstruktur werden auch Variablen zur Animation dieser Objekte und weitere spezifische Eigenschaften festgelegt. Der folgende Codeabschnitt zeigt den kompletten Code für den Konstruktor. Für die Asteroiden und das Schiff hätten grundsätzlich auch durch Pygame generierte Rechtecke verwendet werden können, für den Zweck der Überprüfung der Leistung des neuronalen Netzes hat sich der Autor aber dafür entschieden, mit Grafiken (sogenannten Sprites) zu arbeiten. Die Sprites liegen im Ordner \"assets\" und werden von dort eingelesen. Daher sollte die Ordnerstruktur nach Möglichkeit erhalten bleiben.\n",
        "\n",
        "Da in einer früheren Version des Spiels noch mit mehreren Asteroidenketten pro Level gearbeitet wurde, finden sich zum Teil ggf. noch Relikte dieser alten Implementierung.\n"
      ],
      "metadata": {
        "id": "3T3OwxptEUFF"
      },
      "id": "3T3OwxptEUFF"
    },
    {
      "cell_type": "code",
      "source": [
        "class SpaceDodgerGame:\n",
        "    def __init__(self):\n",
        "        \"\"\"\n",
        "        Initialisiert das Spiel. Hier werden grundlegende Einstellungen, dh\n",
        "        die Spielgeschwindigkeit, Level-Einstellungen und Grafikelemente (Asteroiden und Raumschiff-Sprites) geladen.\n",
        "        \"\"\"\n",
        "\n",
        "        pygame.init()\n",
        "\n",
        "        self.clock = pygame.time.Clock() # Framerate\n",
        "        self.asteroids_per_level = 1  # Anzahl der Asteroidenketten pro Level (bleibt auch bei 1)\n",
        "        self.current_level = 1  # Startlevel\n",
        "        self.spawned_asteroids_count = 0  # Anzahl der bereits erschienenen Asteroiden\n",
        "\n",
        "        # Lochposition und -größe für Asteroidenketten\n",
        "        self.hole_position = 0\n",
        "        self.hole_size = 0\n",
        "\n",
        "        # Extrahieren einzelner Asteroiden-Sprites\n",
        "        asteroid_sheet = pygame.image.load('assets/asteroids.png')\n",
        "        asteroid_sprite_width, asteroid_sprite_height = asteroid_sheet.get_size()\n",
        "        asteroid_sprite_width //= 8\n",
        "        asteroid_sprite_height //= 8\n",
        "\n",
        "\n",
        "        self.asteroid_sprites = []\n",
        "        for row in range(8):\n",
        "            for col in range(8):\n",
        "                rect = pygame.Rect(col * asteroid_sprite_width, row * asteroid_sprite_height, asteroid_sprite_width, asteroid_sprite_height)\n",
        "                asteroid_sprite = asteroid_sheet.subsurface(rect)\n",
        "                self.asteroid_sprites.append(asteroid_sprite)\n",
        "\n",
        "        # Laden der Raumschiff-Sprites\n",
        "        sprite_sheet = pygame.image.load('assets/ship.png')\n",
        "        sprite_width, sprite_height = sprite_sheet.get_size()\n",
        "        sprite_width //= 5\n",
        "        sprite_height //= 2\n",
        "        scale_factor = 2\n",
        "        self.spaceships = []\n",
        "\n",
        "        for i in range(5):\n",
        "            rect = pygame.Rect(i * sprite_width, 0, sprite_width, sprite_height)\n",
        "            spaceship_sprite = sprite_sheet.subsurface(rect)\n",
        "            scaled_sprite = pygame.transform.scale(spaceship_sprite,\n",
        "                                                   (sprite_width * scale_factor, sprite_height * scale_factor))\n",
        "            self.spaceships.append(scaled_sprite)\n",
        "\n",
        "        # Erstellen von Masken für Kollisionserkennung\n",
        "        self.spaceship_masks = [pygame.mask.from_surface(sprite) for sprite in self.spaceships]\n",
        "\n",
        "        # Variablen für Raumschiffanimation\n",
        "        self.current_spaceship_index = 0\n",
        "        self.animation_frame_count = 0\n",
        "        self.animation_speed = 5  # Niedrigere Werte bedeuten schnellere Animation\n",
        "\n",
        "        # Spielfenster-Größe\n",
        "        self.width, self.height = 288, 512\n",
        "        self.screen = pygame.display.set_mode((self.width, self.height))\n",
        "        pygame.display.set_caption(\"Space Dodger\")\n",
        "\n",
        "        # Eigenschaften des Raumschiffs\n",
        "        self.spaceship_width, self.spaceship_height = self.spaceships[0].get_size()\n",
        "        self.spaceship_speed = 3 # Geschwindigkeit des Raumschiffs, weniger ist langsamer\n",
        "        self.spaceship = None\n",
        "\n",
        "        # Eigenschaften der Asteroiden (fixe Größe, Anfangsgeschwindigkeit)\n",
        "        self.asteroid_size = 40\n",
        "        self.asteroid_speed = 1\n",
        "        self.asteroid_spawn_rate = 100 # ketten sollten zeitversetzt spawnen, falls es mehrere pro level gibt\n",
        "        self.asteroids = []\n",
        "        self.reset()"
      ],
      "metadata": {
        "id": "F7CmwDJoHcvF"
      },
      "id": "F7CmwDJoHcvF",
      "execution_count": null,
      "outputs": []
    },
    {
      "cell_type": "markdown",
      "source": [
        "Nachdem der Konstruktur fertig ist und das Spielfenster, die Objekte, Kollisionsmasken und sämtliche weiteren relevanten Parameter definiert bzw. animiert sind, wird als nächstes eine Funktion implementiert, um den Spielzustand nach einer Kollision wiederherzustellen. Das Raumschiff wird dabei immer zentral auf der X-Achse positioniert, und weitere Parameter wie die Anzahl der Asteroiden und das Level wieder auf den Ursprung zurückgesetzt."
      ],
      "metadata": {
        "id": "OzEz213aI1WX"
      },
      "id": "OzEz213aI1WX"
    },
    {
      "cell_type": "code",
      "source": [
        "    def reset(self):\n",
        "        \"\"\"\n",
        "        Setzt nach einer Kollision das Spiel zurück, indem es das Raumschiff und die Asteroiden neu positioniert und das Level zurücksetzt.\n",
        "        \"\"\"\n",
        "        self.spaceship = pygame.Rect(self.width // 2 - self.spaceship_width // 2,\n",
        "                                     self.height - self.spaceship_height - 10,\n",
        "                                     self.spaceship_width, self.spaceship_height)\n",
        "        self.asteroids = []\n",
        "        self.frame_count = 0\n",
        "        self.spaceship_mask = self.spaceship_masks[0]\n",
        "        self.current_level = 1\n",
        "        self.spawned_asteroids_count = 0\n",
        "        self.asteroid_speed = 1"
      ],
      "metadata": {
        "id": "mkrWi4mYJzGV"
      },
      "id": "mkrWi4mYJzGV",
      "execution_count": null,
      "outputs": []
    },
    {
      "cell_type": "markdown",
      "source": [
        "Um den visuellen Eindruck eines animierten Raumschiffs zu erzeugen, wird noch eine Methode implementiert, welche alle paar Frames durch die Sprites des Raumschiffs iteriert und den Index des aktuellen Raumschiff-Sprites ändert."
      ],
      "metadata": {
        "id": "NouZd3aqLSfc"
      },
      "id": "NouZd3aqLSfc"
    },
    {
      "cell_type": "code",
      "source": [
        "    def update_spaceship_animation(self):\n",
        "        \"\"\"\n",
        "        Aktualisiert die Animation des Raumschiffs.\n",
        "        \"\"\"\n",
        "        self.animation_frame_count += 1\n",
        "        if self.animation_frame_count >= self.animation_speed:\n",
        "            self.animation_frame_count = 0\n",
        "            self.current_spaceship_index = (self.current_spaceship_index + 1) % len(self.spaceships)\n",
        "            self.spaceship_mask = self.spaceship_masks[self.current_spaceship_index]"
      ],
      "metadata": {
        "id": "Egy8NjePLjgf"
      },
      "id": "Egy8NjePLjgf",
      "execution_count": null,
      "outputs": []
    },
    {
      "cell_type": "markdown",
      "source": [
        "Im nächsten Schritt wird die eigentliche Asteroidenkette mit dem entsprechenden Loch generiert, durch welches das Raumschiff hindurchfliegen muss. Der Prozess beginnt mit der Festlegung des Bereichs, in dem diese Lücke erscheinen kann, wobei darauf geachtet wird, dass sie nicht zu nahe an der aktuellen Position des Raumschiffs platziert wird. Um dies zu erreichen, definiert die Methode eine Ausschlusszone rund um das Raumschiff, die verhindert, dass die Lücke direkt an der Stelle erscheint, an der sich das Raumschiff befindet. Dies hat den Hintergrund, dass das Training sonst ggf. nicht effektiv wäre - denn wenn sich das Raumschiff nicht bewegen muss und quasi \"automatisch\" durch das Loch fliegt, gibt es keine Herausforderung und keine Strategie die der Agent erlernen kann.\n",
        "\n",
        "Anschließend teilt die Methode den möglichen Bereich für die Lücke in zwei Teile: links und rechts von dieser Ausschlusszone. Dies stellt sicher, dass die Lücke in einem sicheren Abstand vom Raumschiff erscheint. Die Methode überprüft dann, ob es gültige Positionen für die Lücke gibt.\n",
        "\n",
        "Sobald ein gültiger Bereich festgelegt ist, wählt die Methode zufällig aus, ob die Lücke links oder rechts von der Ausschlusszone erscheinen soll. Die Größe dieser Lücke wird ebenfalls, innerhalb eines vordefinierten Rahmens, zufällig bestimmt.\n",
        "\n",
        "Nachdem die Position und Größe der Lücke festgelegt sind, beginnt die Methode mit der Erzeugung der Asteroiden. Sie platziert Asteroiden entlang der gesamten Breite des Spielfelds, mit Ausnahme des Bereichs, der als Lücke definiert wurde. Jeder Asteroid wird aus einer vorher festgelegten Liste von Sprites zufällig ausgewählt, skaliert und dann positioniert.\n",
        "\n",
        "Abschließend aktualisiert die Methode die gespeicherten Werte für die Position und Größe der Lücke. Diese Informationen sind wichtig für die Spiellogik, da sie bestimmen, wo und wie die nächste Reihe von Asteroiden erscheinen wird."
      ],
      "metadata": {
        "id": "JJtFqOE4LlQH"
      },
      "id": "JJtFqOE4LlQH"
    },
    {
      "cell_type": "code",
      "source": [
        "    def spawn_asteroid_chain(self):\n",
        "        \"\"\"\n",
        "        Erzeugt eine Kette von Asteroiden mit einer Lücke, durch die das Raumschiff hindurchfliegen kann.\n",
        "        \"\"\"\n",
        "        # Festlegen des Bereichs, in dem das Loch erscheinen kann, um die Startposition des Raumschiffs zu vermeiden\n",
        "        min_x = 0\n",
        "        max_x = self.width - self.asteroid_size * 3\n",
        "\n",
        "        # Bestimmung der aktuellen Position des Raumschiffs\n",
        "        spaceship_x_center = self.spaceship.x + self.spaceship_width // 2\n",
        "\n",
        "        # Definieren eines Bereichs um das Raumschiff, in dem das Loch nicht erzeugt werden sollt\n",
        "        exclusion_zone = self.spaceship_width * 2\n",
        "\n",
        "        # Aufteilen der möglichen Lochpositionen in zwei Bereiche, um die Ausschlusszone zu vermeiden\n",
        "        left_range = [x for x in range(min_x, spaceship_x_center - exclusion_zone) if\n",
        "                      x + self.asteroid_size * 3 <= max_x]\n",
        "        right_range = [x for x in range(spaceship_x_center + exclusion_zone, max_x) if x >= min_x]\n",
        "\n",
        "        # Überprüfen, ob gültige Positionen in den Bereichen vorhanden sind\n",
        "        if not left_range and not right_range:\n",
        "            print(\"No valid positions for the hole. Adjust game parameters.\")\n",
        "            return\n",
        "\n",
        "        # Zufällige Auswahl, ob das Loch links oder rechts von der Ausschlusszone sein wird\n",
        "        if left_range and (not right_range or random.random() > 0.5):\n",
        "            hole_position = random.choice(left_range)\n",
        "        else:\n",
        "            hole_position = random.choice(right_range)\n",
        "\n",
        "        # Bestimmen der Größe des Lochs\n",
        "        hole_size = random.randint(self.asteroid_size * 2, self.asteroid_size * 3)\n",
        "\n",
        "        # Erzeugen der Asteroiden, wobei eine Lücke an der gewählten Position gelassen wird\n",
        "        for x in range(0, self.width, self.asteroid_size):\n",
        "            if not hole_position <= x < hole_position + hole_size:\n",
        "                asteroid_sprite = random.choice(self.asteroid_sprites)\n",
        "                scaled_sprite = pygame.transform.scale(asteroid_sprite, (self.asteroid_size, self.asteroid_size))\n",
        "                self.asteroids.append(\n",
        "                    [scaled_sprite, pygame.Rect(x, 0, self.asteroid_size, self.asteroid_size), self.asteroid_speed])\n",
        "\n",
        "        # Aktualisieren der Lochposition und -größe\n",
        "        self.hole_position = hole_position\n",
        "        self.hole_size = hole_size"
      ],
      "metadata": {
        "id": "rax_jjHYMchU"
      },
      "id": "rax_jjHYMchU",
      "execution_count": null,
      "outputs": []
    },
    {
      "cell_type": "markdown",
      "source": [
        "Darauf folgt die \"run\" - Methode als zentraler Bestandteil des Spielecodes. Diese Methode startet die Hauptschleife, welche kontinuierlich läuft und den Rahmen für sämtliche Bilder und Aktionen bietet. Die Schleife ist verantwortlich für die ständige Aktualisierung des Spielzustands und reagiert kontinuierlich auf Benutzereingaben und andere Ereignisse.\n",
        "\n",
        "Zu Beginn wird die Variable \"running\" auf True gesetzt. Innerhalb der While-Schleife wird dann über \"pygame.key\" und die noch folgende Funktion \"process_input\" kontinuierlich geprüft, ob es Inputs (Tastendrücke) vom Spieler gibt. Außerdem wird hier die Framerate des Spiels definiert (60) und alle Spielelemente, wie das Raumschiff und die Asteroiden, werden über \"render()\" auf den Bildschirm gezeichnet."
      ],
      "metadata": {
        "id": "aEmE7JYQMfw8"
      },
      "id": "aEmE7JYQMfw8"
    },
    {
      "cell_type": "code",
      "source": [
        "    def run(self):\n",
        "        \"\"\"\n",
        "        Startet die main loop des Spiels.\n",
        "        \"\"\"\n",
        "        running = True\n",
        "        while running:\n",
        "            self.screen.fill((0, 0, 0))\n",
        "\n",
        "            for event in pygame.event.get():\n",
        "                if event.type == pygame.QUIT:\n",
        "                    running = False\n",
        "\n",
        "            keys = pygame.key.get_pressed()\n",
        "            self.process_input(keys)\n",
        "            self.update_spaceship_animation()\n",
        "            self.render()\n",
        "            self.clock.tick(60)\n",
        "\n",
        "            pygame.display.update()\n",
        "        pygame.quit()\n"
      ],
      "metadata": {
        "id": "xp2HQUQ5N4Z8"
      },
      "id": "xp2HQUQ5N4Z8",
      "execution_count": null,
      "outputs": []
    },
    {
      "cell_type": "markdown",
      "source": [
        "Daran schließt die soeben erwähnte \"process_input\" Methode an. Diese ist zuständig für die Verarbeitung der Benutzereingaben und spielt die zentrale Rolle für die Steuerung des Raumschiffs im Spiel. Abhängig von der gedrückten Taste wird eine Aktion ausgeführt, wobei folgendes gilt:\n",
        "\n",
        "Die linke Pfeiltaste bewegt bei Tastendruck das Raumschiff nach links, sofern sich das Raumschiff nicht bereits am äußersten Rand befindet. Entsprecht bewegt die rechte Pfeiltaste das Raumschiff gleichgeartet nach rechts.\n",
        "\n",
        "Die Bewegung erfolgt dabei in Abhängigkeit des Wertes, welcher der Variable self.spaceship_speed zugeordnet ist. Weiterhin überprüft die Methode, ob bereits eine Asteroidenkette im Level generiert wurde und falls das nicht der Fall ist, wird eine generiert.\n",
        "\n",
        "Auch die Erkennung der Kollision zwischen Raumschiff und Asteroiden, sowie die Entfernung von Asteroiden welche den unteren Bildschirmrand passiert haben wird über diese Funktion gesteuert."
      ],
      "metadata": {
        "id": "nU1W5K4oN69N"
      },
      "id": "nU1W5K4oN69N"
    },
    {
      "cell_type": "code",
      "source": [
        "    def process_input(self, keys):\n",
        "        \"\"\"\n",
        "        Verarbeitet Benutzereingaben.\n",
        "        \"\"\"\n",
        "        if keys[pygame.K_LEFT] and self.spaceship.x > 0:\n",
        "            self.spaceship.x -= min(self.spaceship_speed, self.spaceship.x)\n",
        "        elif keys[pygame.K_RIGHT] and self.spaceship.x < self.width - self.spaceship_width:\n",
        "            self.spaceship.x += min(self.spaceship_speed, self.width - self.spaceship_width - self.spaceship.x)\n",
        "\n",
        "        # Steuerung des Raumschiffs nach links oder rechts\n",
        "        if self.spawned_asteroids_count < self.asteroids_per_level:\n",
        "            if self.frame_count % self.asteroid_spawn_rate == 0:\n",
        "                self.spawn_asteroid_chain()\n",
        "                self.spawned_asteroids_count += 1\n",
        "\n",
        "        # Kollisionscheck\n",
        "        for asteroid in self.asteroids:\n",
        "            asteroid_sprite, asteroid_rect, _ = asteroid\n",
        "            asteroid_rect.y += self.asteroid_speed\n",
        "            new_y = asteroid_rect.y\n",
        "\n",
        "            asteroid_mask = pygame.mask.from_surface(asteroid_sprite)\n",
        "            offset_x = asteroid_rect.x - self.spaceship.x\n",
        "            offset_y = new_y - self.spaceship.y\n",
        "\n",
        "            if self.spaceship_mask.overlap(asteroid_mask, (offset_x, offset_y)):\n",
        "                self.reset()\n",
        "                break\n",
        "\n",
        "        # Asteroiden entfernen die den Rand verlassen\n",
        "        self.asteroids = [asteroid for asteroid in self.asteroids if asteroid[1].y <= self.height]\n",
        "\n",
        "        if len(self.asteroids) == 0 and self.spawned_asteroids_count >= self.asteroids_per_level:\n",
        "            self.prepare_next_level()"
      ],
      "metadata": {
        "id": "QEOB7TIGO_lv"
      },
      "id": "QEOB7TIGO_lv",
      "execution_count": null,
      "outputs": []
    },
    {
      "cell_type": "markdown",
      "source": [
        "Sofern der Spieler erfolgreich durch das Loch navigiert (d.h. der Asteroidenkette ausweicht), ist das Level beendet und das nächste Level startet. Die Geschwindigkeit der Asteroiden erhöht sich. Dies ist in der Funktion \"prepare_next_level\" definiert."
      ],
      "metadata": {
        "id": "Aiau_ZRbPAO_"
      },
      "id": "Aiau_ZRbPAO_"
    },
    {
      "cell_type": "code",
      "source": [
        "    def prepare_next_level(self):\n",
        "        \"\"\"\n",
        "        Uebergang ins naechste Level.\n",
        "        \"\"\"\n",
        "        self.current_level += 1\n",
        "        self.asteroid_speed += 0.5\n",
        "        self.spawn_asteroid_chain()\n",
        "        self.spawned_asteroids_count = 0\n",
        "        self.asteroids = []\n",
        "        print(f\"Nächstes Level: {self.current_level}\")"
      ],
      "metadata": {
        "id": "6GpQTYj6PZal"
      },
      "id": "6GpQTYj6PZal",
      "execution_count": null,
      "outputs": []
    },
    {
      "cell_type": "markdown",
      "source": [
        "Die gesamten Spielelemente werden wie zuvor erwähnt durch die render Methode auf den Buldschirm gezeichnet. Dazu gehört neben Asteroiden und Raumschiff auch die Anzeige des aktuellen Levels."
      ],
      "metadata": {
        "id": "yFEuckKHPbUK"
      },
      "id": "yFEuckKHPbUK"
    },
    {
      "cell_type": "code",
      "source": [
        "    def render(self):\n",
        "        \"\"\"\n",
        "        Zeichnet alle Spielelemente auf dem Bildschirm. Dies umfasst das Raumschiff, die Asteroiden und die Spielinformationen wie das aktuelle Level.\n",
        "        \"\"\"\n",
        "        self.screen.fill((0, 0, 0))\n",
        "\n",
        "        current_spaceship = self.spaceships[self.current_spaceship_index]\n",
        "        self.screen.blit(current_spaceship, self.spaceship.topleft)\n",
        "\n",
        "        for asteroid in self.asteroids:\n",
        "            self.screen.blit(asteroid[0], asteroid[1].topleft)\n",
        "\n",
        "        font = pygame.font.Font(None, 36)\n",
        "        level_text = font.render(f\"Level: {self.current_level}\", True, (255, 255, 255))\n",
        "        self.clock.tick(60)\n",
        "        self.screen.blit(level_text, (10, 10))\n",
        "\n",
        "\n",
        "if __name__ == \"__main__\":\n",
        "    game = SpaceDodgerGame()\n",
        "    game.run()"
      ],
      "metadata": {
        "id": "bnXo9octPrAu"
      },
      "id": "bnXo9octPrAu",
      "execution_count": null,
      "outputs": []
    },
    {
      "cell_type": "markdown",
      "source": [
        "Damit ist die \"menschliche\" Version des Spiels unter dem Namen \"human.py\" abgeschlossen.\n",
        "\n",
        "\n",
        "\n",
        "![grafik.png](data:image/png;base64,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)"
      ],
      "metadata": {
        "id": "OVn-sJ96QK8Q"
      },
      "id": "OVn-sJ96QK8Q"
    },
    {
      "cell_type": "markdown",
      "source": [
        "<a name=\"netzwerk\"></a>\n",
        "## 5. Erstellen des Neuronalen Netzwerkes\n"
      ],
      "metadata": {
        "id": "sM4kTQ6YTzFg"
      },
      "id": "sM4kTQ6YTzFg"
    },
    {
      "cell_type": "markdown",
      "source": [
        "In diesem Kapitel soll das Neuronale Netzwerkmodell und somit das \"Gehirn\" des DQN zur Approximierung der Q-Funktion erstellt werden.\n",
        "\n",
        "Dafür wird ein neues Skript namens model.py angelegt, in dem zunächst der Import der PyTorch-Module erfolgt."
      ],
      "metadata": {
        "id": "XL0N7aJUUNhD"
      },
      "id": "XL0N7aJUUNhD"
    },
    {
      "cell_type": "code",
      "source": [
        "import torch.nn as nn\n",
        "import torch.nn.functional as F"
      ],
      "metadata": {
        "id": "udf-AnVz26Ek"
      },
      "id": "udf-AnVz26Ek",
      "execution_count": null,
      "outputs": []
    },
    {
      "cell_type": "markdown",
      "source": [
        "Die Klasse \"nn\" enthält Modul-Klassen wie 'Linear' für vollständig verbundene Schichten, während functional z.B. Aktivierungsfunktionen wie Rectified Linear Unit (ReLU) bereitstellt.\n",
        "\n",
        "In einem DQN gibt es im Wesentlichen drei Arten von Schichten: Eingabe-, versteckte (oder verborgene) und Ausgabeschichten. Die Eingabeschicht nimmt Informationen aus der Umgebung auf, die verborgenen Schichten verarbeiten diese Informationen weiter und die Ausgabeschicht liefert das Ergebnis des Netzwerks,zum Beispiel eine Entscheidung oder eine Vorhersage.[14]\n",
        "\n",
        "Ein wichtiger Bestandteil dieser Schichten sind die sogenannten Aktivierungsfunktionen. Diese Funktionen bestimmen, ob ein Neuron \"aktiviert\" oder \"feuert\". In einem neuronalen Netzwerk besteht jedes Neuron aus Eingaben, die gewichtet, summiert und dann durch eine Aktivierungsfunktion geleitet werden. Diese Aktivierungsfunktion entscheidet darüber, ob und wie stark ein Neuron \"aktiviert\" wird, das heißt, ob es ein Signal an die nächste Schicht im Netzwerk weitergibt. Man kann sich ein Neuron vorstellen wie eine Art Entscheidungsträger, der basierend auf seinen Eingaben entscheidet, ob er ein Signal \"feuert\" (verwirft) oder \"aktiviert\" (weiterleitet).[15]\n",
        "\n",
        "Eine gängige Aktivierungsfunktion ist die ReLU. Sie funktioniert wie ein Filter, der basierend darauf wie relevant bestimmte Signale für die erlernte Aufgabe sind, entweder durchlässig oder hemmend für diese Signale ist.\n",
        "\n",
        "ReLU ist durch die Formel f(x)=max(0,x) definiert. Diese Funktion setzt alle negativen Eingabewerte auf null und lässt alle positiven Werte unverändert. In der Praxis bedeutet dies, dass ein Neuron nur dann aktiviert wird und ein Signal weiterleitet, wenn seine gewichtete Eingabesumme positiv ist. Ist die Eingabesumme negativ, wird das Neuron nicht aktiviert und sendet auch kein Signal weiter (\"feuern\").[16]\n",
        "\n",
        "Durch das Nullsetzen negativer Werte trägt die ReLU-Aktivierungsfunktion zur Nichtlinearität des Netzwerks bei. Das ist insbesondere deshalb wichtig, weil viele Probleme, die  neuronale Netzwerke zu lösen versuchen, einen nicht-linearen Charakter haben.\n",
        "\n",
        "In dem Konstruktor des DQN werden die verschiedenen Schichten des Netzwerks definiert. Hier wird die Größe des Eingabevektors (input_size) und die Größe des Ausgabevektors (output_size) festgelegt. Die Eingabegröße entspricht der Anzahl der Merkmale in den Daten, die das Netzwerk erhält, und die Ausgabegröße entspricht der Anzahl der möglichen Aktionen, die das Netzwerk treffen kann. In diesem Fall hat das Netzwerk drei vollständig verbundene Schichten. Die erste Schicht (fc1) nimmt die Eingabedaten auf und transformiert sie in einen 128-dimensionalen Raum. Die zweite Schicht (fc2) transformiert diesen 128-dimensionalen Raum erneut, und die dritte Schicht (fc3) reduziert schließlich diese Informationen auf die Größe des Ausgabevektors.\n",
        "\n",
        "Die Anzahl der Neuronen innerhalb der Schichten des neuronalen Netzwerkes ist ein Parameter, der abhängig von verschiedenen Faktoren gewählt werden muss. Komplexe Aufgaben, die eine tiefere und feinere Verarbeitung der Eingabedaten erfordern, können von mehr Neuronen profitieren. Gleichzeitig muss aber ein Netzwerk mit einer großen Anzahl von Neuronen mehr Trainingsdaten bzw. Trainingsepisoden durchlaufen, um eine Überanpassung (Overfitting) zu vermeiden. Zudem erhöht sich auch die Anforderung an die Rechnerleistung und die Trainingszeit steigt.\n",
        "\n",
        "Für das Space Dodger Spiel wurde mit einer kleinen Anzahl von Neuronen bgegonnen (40) und diese Anzahl wurde dann iterativ in einem Testszenario von jeweils 100 Episoden auf bis auf 128 Neuronen hochgeschraubt. Mehr Neuronen haben keine signifikante Verbesserung in der Performance gezeigt."
      ],
      "metadata": {
        "id": "kb9kxd-C27jT"
      },
      "id": "kb9kxd-C27jT"
    },
    {
      "cell_type": "code",
      "source": [
        "class DeepQNetwork(nn.Module):\n",
        "    def __init__(self, input_size, output_size):\n",
        "        \"\"\"\n",
        "        Konstruktor der Netzwerk-Klasse.\n",
        "\n",
        "        Parameter:\n",
        "        - input_size: Die Größe des Eingabevektors, was der ANzahl der Merkmale entspricht, die  das Netzwerk erhält (5, siehe get_state methode in main.py).\n",
        "        - output_size: Die Größe des Ausgabevektors, was der Anzahl der Aktionen entspricht, die das Netzwerk treffen kann (zwei, links/rechts).\n",
        "\n",
        "        Das Netzwerk besteht aus drei vollständig verbundenen Schichten (fully connected layers).\n",
        "        \"\"\"\n",
        "\n",
        "        super(DeepQNetwork, self).__init__()\n",
        "\n",
        "\n",
        "        # Definieren der ersten vollständig verbundenen Schicht (fc1)\n",
        "        # von der Eingabeschicht zur ersten verborgenen Schicht mit 128 Neuronen\n",
        "        self.fc1 = nn.Linear(input_size, 128)\n",
        "\n",
        "        # Definieren der zweiten vollständig verbundenen Schicht (fc2)\n",
        "        # von der ersten zur zweiten verborgenen Schicht, ebenfalls mit 128 Neuronen\n",
        "        self.fc2 = nn.Linear(128, 128)\n",
        "\n",
        "        # Definieren der dritten vollständig verbundenen Schicht (fc3)\n",
        "        # von der letzten verborgenen Schicht zur Ausgabeschicht\n",
        "        self.fc3 = nn.Linear(128, output_size)\n"
      ],
      "metadata": {
        "id": "lu71G_CVVNsz"
      },
      "id": "lu71G_CVVNsz",
      "execution_count": null,
      "outputs": []
    },
    {
      "cell_type": "markdown",
      "source": [
        "In der forward-Methode wird der Prozess definiert, durch den die Eingabedaten durch das Netzwerk fließen, um die Ausgabe zu produzieren. Die vorher beschriebene ReLU-Aktivierungsfunktion wird nach der ersten und zweiten Schicht angewendet, um dem Netzwerk zu helfen, nichtlineare Muster in den Daten zu erkennen.\n"
      ],
      "metadata": {
        "id": "S0R0PI9-VQf0"
      },
      "id": "S0R0PI9-VQf0"
    },
    {
      "cell_type": "code",
      "source": [
        "    def forward(self, x):\n",
        "        \"\"\"\n",
        "        Definiert den Forward-Pass des Netzwerks.\n",
        "        Diese Methode wird aufgerufen, um die Ausgabe des Netzwerks basierend auf den Eingabedaten zu berechnen.\n",
        "\n",
        "        Parameter:\n",
        "        - x: Eingabedaten, ein Tensor, der in das Netzwerk gefüttert wird.\n",
        "\n",
        "        Die Aktivierungsfunktion ReLU (Rectified Linear Unit) wird auf die ersten beiden Schichten angewendet.\n",
        "        \"\"\"\n",
        "\n",
        "        # Anwenden der ReLU-Aktivierungsfunktion nach der ersten Schicht\n",
        "        x = F.relu(self.fc1(x))\n",
        "\n",
        "        # Anwenden der ReLU-Aktivierungsfunktion nach der zweiten Schicht\n",
        "        x = F.relu(self.fc2(x))\n",
        "\n",
        "        # Rückgabe der Ausgabe der dritten Schicht ohne zusätzliche Aktivierungsfunktion\n",
        "        return self.fc3(x)"
      ],
      "metadata": {
        "id": "sA3KDULJVSIL"
      },
      "id": "sA3KDULJVSIL",
      "execution_count": null,
      "outputs": []
    },
    {
      "cell_type": "markdown",
      "metadata": {
        "id": "SpTkmxAYjEEM"
      },
      "source": [
        "<a name=\"integration\"></a>\n",
        "## 6. Integration der KI in das Spiel"
      ],
      "id": "SpTkmxAYjEEM"
    },
    {
      "cell_type": "markdown",
      "metadata": {
        "id": "xH_AAEuVjRH7"
      },
      "source": [
        "Im dritten Skript \"main.py\" muss die zuvor erstellte Space Dodger Implementierung nun angepasst werden. Das Ziel ist es, den Code in der Weise zu verändern, dass der Agent innerhalb des Trainings sämtliche notwendigen Zustände aus dem Spiel erhalten kann. Dazu gehört neben den Informationen zum Spielfeld (u.a. Position des Schiffs, Position der Asteroiden) ein Feedback in Form der enthaltenen Belohnung (Parameter \"reward\") und eine Information dahingehend, ob das Spiel beendet worden ist (durch Kollision), oder nicht (Parameter \"done\").\n",
        "\n",
        "Der Konstruktur und die meisten Funktionen der Space Dodger-Klasse bleiben zu diesem Zweck unverändert - mit Ausnahme der Funktionen \"run\" und \"process_input\". Während erstere gänzlich entfernt werden kann, wird die \"process_input\" umbenannt und modifiziert. Die über die Funktion \"run\" aufgebaute Hauptschleife wird im nächsten Kapitel innerhalb des Trainingsskriptes in einer abgewandelten Form eingebaut.\n",
        "\n",
        "Die \"process_input\" Funktion bleibt inhaltlich zwar im wesentlichen erhalten, wird aber in \"step\" umbenannt und ist nun in der Lage, einen Parameter \"action\" anzunehmen. Abhängig von der Aktion des Agenten (0,1) wird dann entweder die Bewegung nach links oder rechts initiiert, sofern das Raumsschiff nicht bereits am jeweiligen äußersten Rand ist.\n",
        "\n",
        "Die \"step\" Funktion ruft im Return Statement außerdem eine neue Funktion \"get_state\" auf. Diese Funktion dient dazu, den aktuellen Zustand des Spiels in Form von einer Werteliste an den Agenten zu senden. Neben den relativen X- und Y-Positionen des Raumschiffs wird auch die Position und Größe in der Asteroidenlücke, sowie die Geschwindigkeit der Asteroiden als Information übergeben."
      ],
      "id": "xH_AAEuVjRH7"
    },
    {
      "cell_type": "code",
      "source": [
        "    def step(self, action):\n",
        "        \"\"\"\n",
        "        Führt einen Schritt im Spiel durch, basierend auf der übergebenen Aktion.\n",
        "        Aktualisiert den Spielzustand und gibt den neuen Zustand, die Belohnung und ein Flag zurück, ob das Spiel beendet ist.\n",
        "        \"\"\"\n",
        "\n",
        "        collision_penalty = -1\n",
        "        successful_hole_navigation_reward = 0.5  # Belohnung für das erfolgreiche Navigieren durch die Lücke\n",
        "        reward = 0\n",
        "        done = False\n",
        "\n",
        "        # Bewegungsaktionen des Agenten\n",
        "        if action == 0 and self.spaceship.x > 0:\n",
        "            self.spaceship.x -= min(self.spaceship_speed, self.spaceship.x)\n",
        "        elif action == 1 and self.spaceship.x < self.width - self.spaceship_width:\n",
        "            self.spaceship.x += min(self.spaceship_speed, self.width - self.spaceship_width - self.spaceship.x)\n",
        "\n",
        "        # Erscheinen neuer Asteroidenketten\n",
        "        if self.spawned_asteroids_count < self.asteroids_per_level:\n",
        "            if self.frame_count % self.asteroid_spawn_rate == 0:\n",
        "                self.spawn_asteroid_chain()\n",
        "                self.spawned_asteroids_count += 1\n",
        "\n",
        "        # Berechnen der Position und Größe der Lücke zur Überganbe an den Agenten\n",
        "        if self.asteroids:\n",
        "            all_x_positions = [asteroid[1].x for asteroid in self.asteroids]\n",
        "            hole_start = max(0, min(all_x_positions) - self.asteroid_size)\n",
        "            hole_end = min(self.width, max(all_x_positions) + self.asteroid_size)\n",
        "        else:\n",
        "            hole_start = 0\n",
        "            hole_end = self.width\n",
        "\n",
        "        # Kollision überprüfen und Belohnung oder Strafe verteilen\n",
        "\n",
        "        for asteroid in self.asteroids:\n",
        "            asteroid_sprite, asteroid_rect, _ = asteroid\n",
        "            prev_y = asteroid_rect.y\n",
        "            asteroid_rect.y += self.asteroid_speed\n",
        "            new_y = asteroid_rect.y\n",
        "\n",
        "            asteroid_mask = pygame.mask.from_surface(asteroid_sprite)\n",
        "            offset_x = asteroid_rect.x - self.spaceship.x\n",
        "            offset_y = new_y - self.spaceship.y\n",
        "\n",
        "            if self.spaceship_mask.overlap(asteroid_mask, (offset_x, offset_y)):\n",
        "                done = True\n",
        "                reward = collision_penalty\n",
        "                self.reset()\n",
        "                break\n",
        "\n",
        "            if prev_y < self.height and new_y >= self.height:\n",
        "                if hole_start <= self.spaceship.x <= hole_end:\n",
        "                    reward += successful_hole_navigation_reward\n",
        "\n",
        "        # Asteroiden entfernen die den utnenren Rand verlassen haben\n",
        "        self.asteroids = [asteroid for asteroid in self.asteroids if asteroid[1].y <= self.height]\n",
        "\n",
        "        # Levelübergang vorbereiten\n",
        "        if len(self.asteroids) == 0 and self.spawned_asteroids_count >= self.asteroids_per_level:\n",
        "            self.prepare_next_level()\n",
        "            done = False\n",
        "\n",
        "        self.frame_count += 1\n",
        "\n",
        "        # print(f'state {self.get_state()}')\n",
        "        # print(f'reward {reward}')\n",
        "        # print(f'done {done}')\n",
        "\n",
        "        return self.get_state(), reward, done\n",
        "\n",
        "    def get_state(self):\n",
        "        \"\"\"\n",
        "        Gibt den aktuellen Zustand des Spiels zurück. Dieser Zustand wird in Form einer Liste von Werten zurückgegeben, die verschiedene Aspekte des Spiels repräsentieren.\n",
        "        Dazu gehören die X- und Y-Position des Raumschiffs, die Position und Größe der Lücke in der Asteroidenkette und die Geschwindigkeit der Asteroiden.\n",
        "        \"\"\"\n",
        "\n",
        "        pygame.display.flip()\n",
        "\n",
        "        state = [\n",
        "            self.spaceship.x / self.width,  # Relative X-Position des Raumschiffs\n",
        "            self.spaceship.y / self.height,  # Relative Y-Position des Raumschiffs\n",
        "            self.hole_position / self.width,  # Relative X-Position der Lücke\n",
        "            self.hole_size / self.width,  # Relative Größe der Lücke\n",
        "            self.asteroid_speed  # Geschwindigkeit der Asteroiden\n",
        "        ]\n",
        "        #print(state)\n",
        "        return state"
      ],
      "metadata": {
        "id": "xrnNXFKza5oT"
      },
      "id": "xrnNXFKza5oT",
      "execution_count": null,
      "outputs": []
    },
    {
      "cell_type": "markdown",
      "source": [
        "Sofern Nun das Trainingsskript (welches erst im nächsten Kapitel vorgestellt wird) gestartet wird, erhält der Agent fortlaufend (während jeder Iteration) Informationen in folgender Form von der \"step\" - Funktion übermittelt:"
      ],
      "metadata": {
        "id": "GinlLtterMvO"
      },
      "id": "GinlLtterMvO"
    },
    {
      "cell_type": "code",
      "source": [
        "        print(f'state: {self.get_state()}, reward: {reward}, done {done}')"
      ],
      "metadata": {
        "id": "Rmgp1WJyrdw9"
      },
      "id": "Rmgp1WJyrdw9",
      "execution_count": null,
      "outputs": []
    },
    {
      "cell_type": "markdown",
      "source": [
        "state: [0.3298611111111111, 0.88671875, 0.1527777777777778, 0.3090277777777778, 1], reward: 0, done False"
      ],
      "metadata": {
        "id": "QKAc0zoPi7Uy"
      },
      "id": "QKAc0zoPi7Uy"
    },
    {
      "cell_type": "markdown",
      "metadata": {
        "id": "kxjJVROhbjTS"
      },
      "source": [
        "<a name=\"training\"></a>\n",
        "## 7. Training des Modells"
      ],
      "id": "kxjJVROhbjTS"
    },
    {
      "cell_type": "markdown",
      "metadata": {
        "id": "xC9KufTAHb9b"
      },
      "source": [
        "Nachdem das Spiel nun in der Lage ist Rückmeldungen an den Agenten zu geben und das neuronale Netzwerk aufgebaut worden ist, kann das vierte Skript \"train.py\" geschrieben werden. Das Ziel innerhalb dieses Skriptes ist es, einen Trainingsloop zu schreiben, durch welches das DQN trainiert wird. Im Wesentlichen werden vier Funktionen benötigt: die Trainingsfunktion selbst, eine \"optimize_model\"-Funktion zur Verlustreduzierung, eine \"select_action\"-Funktion zur Aktionsauswahl und eine Replay Memory-Klasse, die als Erfahrungspuffer für das Experience Replay dient.\n",
        "\n",
        "Wir beginnen wieder mit den notwendigen Imports und der Initialisierung. Das Paket \"argparse\" wird genutzt, um das Skript per Terminalaufruf mit Parametern starten zu können. Das erlaubt das spätere Aufrufen des Trainings mit verschiedene Parametern per Kommandozeile. Die Pakete \"matplotlib\" und \"tensorboardX\" werden für das Tracking der Trainingsergebnisse genutzt.\n",
        "\n",
        "Abhängig vom genutzen Backend (Jupyter-Notebook oder IDE) wird noch matplotlib so initialisiert, dass es parallel zum Pygame-Loop per IPython laufen kann. Außerdem werden eine \"steps_done\"-Variable und eine \"Transition\"-Variable initialisiert. Die Steps-Variable wird im Verlaufe des Trainings genutzt, um die Anzahl der Schritte zu zählen, die der Agent seit Beginn des Trainings unternommen hat. Diese Information ist nicht nur wichtig zur Speicherung der Checkpoints, sondern auch für die Anwendung der Epsilon-Greedy-Strategie zur Auswahl der Aktionen. Die Transition-Struktur ist ein 'namedtuple' (eine Unterklasse von Tupels), welche vier Elemente speichert:\n",
        "\n",
        "<br>\n",
        "\n",
        "1.   state: der aktuelle Zustand der Umgebung vor der Aktion\n",
        "2.   action: die Aktion, die vom Agenten in diesem Zustand ausgeführt wurde\n",
        "3.   next_state: Der Zustand der Umgebung nach der Aktion\n",
        "4.   reward: die Belohnung, die der Agent in dem Zustand erhalten hat\n",
        "\n",
        "<br>\n",
        "\n",
        "Jede Transition repräsentiert eine Erfahrung, die später für das Training des DQN-Modells verwendet werden kann.\n",
        "\n",
        "Bei der Aktionsauswahl nach dem Epsilon-Greedy-Prinzip nutzt der Agent sowohl Exploitation, um Vorwissen auszunutzen, als auch Exploration, um nach neuen Aktionen zu suchen.\n",
        "\n",
        "Die Strategie wird durch einen Parameter Epsilon (ε) gesteuert, der Werte zwischen 0 und 1 annehmen kann. Bei jedem Schritt wählt der Agent mit einer Wahrscheinlichkeit von ε eine zufällige Aktion (Erkundung) und mit einer Wahrscheinlichkeit von 1-ε die beste ihm bekannte Aktion (Ausbeutung).\n",
        "\n",
        "Zu Beginn des Trainings wird ε relativ hoch gewählt und mit der Zeit verringert, sodass der Agent mehr auf die Ausbeutung übergeht, da er durch frühere Erkundungen bereits wertvolles Wissen über die Umgebung gesammelt hat. Die folgende Abbildung fasst dieses Vorgehen zusammen [17]. Der daran anschließende Code zeigt die Initialisierung bis zu diesem Schritt.\n",
        "\n",
        "<br>\n",
        "\n",
        "![Screenshot 2024-01-06 at 17-35-42 q-learning-epsilon-greedy-1.webp (WEBP-Grafik 287 × 323 Pixel).png](data:image/png;base64,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)\n"
      ],
      "id": "xC9KufTAHb9b"
    },
    {
      "cell_type": "code",
      "source": [
        "import argparse\n",
        "import math\n",
        "import os\n",
        "import torch\n",
        "import random\n",
        "import torch.nn as nn\n",
        "from model import DeepQNetwork\n",
        "from main import SpaceDodgerGame\n",
        "import torch.optim as optim\n",
        "from collections import namedtuple, deque\n",
        "from itertools import count\n",
        "import matplotlib\n",
        "import matplotlib.pyplot as plt\n",
        "from tensorboardX import SummaryWriter\n",
        "\n",
        "# Einrichten von matplotlib für die Visualisierung während des Trainings\n",
        "is_ipython = 'inline' in matplotlib.get_backend()\n",
        "if is_ipython:\n",
        "    from IPython import display\n",
        "\n",
        "plt.ion()\n",
        "\n",
        "steps_done = 0\n",
        "Transition = namedtuple('Transition', ('state', 'action', 'next_state', 'reward'))"
      ],
      "metadata": {
        "id": "y0qxai3HkrNC"
      },
      "id": "y0qxai3HkrNC",
      "execution_count": null,
      "outputs": []
    },
    {
      "cell_type": "markdown",
      "source": [
        "Als nächstes wird die Replay Memory Klasse implementiert. Die grundsätzliche Idee hierbeu ist es, Erfahrungen des Agenten zu speichern (als bereits beschriebenes \"Transition\"-Tuple) und diese später wieder zu verwenden.\n",
        "\n",
        "Die Klasse nutzt eine Datenstruktur namens \"deque\", um die Erfahrungen zu speichern. Dieser Speicher hat eine festgelegte maximale Kapazität, und sobald diese Kapazität erreicht ist, werden die ältesten gespeicherten Erfahrungen automatisch entfernt, um Platz für neue zu machen (*maxlen=capacity*).\n",
        "\n",
        "Die Hauptfunktionen des Replay Memory sind das Hinzufügen neuer Erfahrungen und das Bereitstellen von Stichproben dieser Erfahrungen für das Training des DQN. Neue Erfahrungen werden durch die Methode \"push\" hinzugefügt. Wie bereits erläutert wird jede Erfahrung als ein Transition-Objekt gespeichert, das Informationen über den aktuellen Zustand, die ausgeführte Aktion, den darauffolgenden Zustand und die erhaltene Belohnung enthält. Das Bereitstellen der Stichprobe erfolgt über die \"sample\"-Funktion.\n",
        "\n",
        "Ein signifikanter Vorteil des Replay Memory liegt in der Entkopplung der Erfahrungen. Indem aus einer zufälligen Stichprobe von Erfahrungen gelernt wird, reduziert das Replay Memory die Korrelationen zwischen aufeinanderfolgenden Lernschritten. Diese Korrelationen können problematisch sein, da sie zu einer Verzerrung des Lernprozesses führen und das Netzwerk daran hindern können, eine generalisierte Strategie zu entwickeln.\n",
        "\n",
        "Ein weiterer Vorteil des Replay Memory ist, dass es den Lernprozess stabilisiert. Da die Erfahrungen über viele verschiedene Zustände und Situationen verteilt sind, verhindert das Replay Memory, dass das Netzwerk zu stark von den jüngsten oder häufigsten Erfahrungen beeinflusst wird. Stattdessen lernt das Netzwerk aus einer breiten Palette von Erfahrungen, was zu einer stabileren und robusteren Lernstrategie führt. Der folgende Code zeigt die Implementierung der ReplayMemory-Klasse."
      ],
      "metadata": {
        "id": "DN3u_FI0l-a7"
      },
      "id": "DN3u_FI0l-a7"
    },
    {
      "cell_type": "code",
      "source": [
        "class ReplayMemory(object):\n",
        "    \"\"\"\n",
        "    Eine Klasse, die das Replay-Memory für das Deep Q-Learning implementiert.\n",
        "    Sie speichert Erfahrungen des Agenten, um das Lernen zu stabilisieren und zu verbessern.\n",
        "    \"\"\"\n",
        "\n",
        "    def __init__(self, capacity):\n",
        "        \"\"\"Konstruktor der Klasse.\"\"\"\n",
        "        self.memory = deque([], maxlen=capacity)\n",
        "\n",
        "    def push(self, *args):\n",
        "        \"\"\"Fügt eine Erfahrung zur Speicher hinzu.\"\"\"\n",
        "        self.memory.append(Transition(*args))\n",
        "\n",
        "    def sample(self, batch_size):\n",
        "        \"\"\"Zufällige Stichprobe von Erfahrungen aus dem Speicher.\"\"\"\n",
        "        return random.sample(self.memory, batch_size)\n",
        "\n",
        "    def __len__(self):\n",
        "        \"\"\"Gibt die aktuelle Anzahl von Erfahrungen im Speicher zurück (debug).\"\"\"\n",
        "        return len(self.memory)"
      ],
      "metadata": {
        "id": "DZlwRuXbmAz7"
      },
      "id": "DZlwRuXbmAz7",
      "execution_count": null,
      "outputs": []
    },
    {
      "cell_type": "markdown",
      "source": [
        "Um die Möglichkeit zu bieten das Training zu unterbrechen und zu einem späteren Zeitpunkt fortzusetzen (z.B. bei einem lokalen Training über mehrere tausend Episoden hinweg) wird eine \"save_checkpoint\"-Funktion implementiert, die den aktuellen Stand des Modells nach jeweils 100 Episoden als \"state dictionary\" speichert."
      ],
      "metadata": {
        "id": "naTp6BMOk8Zu"
      },
      "id": "naTp6BMOk8Zu"
    },
    {
      "cell_type": "code",
      "source": [
        "def save_checkpoint(model, optimizer, episode, memory, path, steps_done):\n",
        "    \"\"\"Erstellt alle 100 Episoden einen Checkpoint, um das Training pickeln zu können.\"\"\"\n",
        "\n",
        "    checkpoint = {\n",
        "        'model_state_dict': model.state_dict(),\n",
        "        'optimizer_state_dict': optimizer.state_dict(),\n",
        "        'episode': episode,\n",
        "        'replay_memory': list(memory.memory),\n",
        "        'steps_done': steps_done\n",
        "    }\n",
        "    torch.save(checkpoint, path)"
      ],
      "metadata": {
        "id": "rH9edsNzx4W0"
      },
      "id": "rH9edsNzx4W0",
      "execution_count": null,
      "outputs": []
    },
    {
      "cell_type": "markdown",
      "source": [
        "Wie bereits erwähnt, sollen sämtliche Hyperparameter optional auch bei einem Aufruf per Kommandozeile übergeben werden können. Dafür werden sie über die Funktion \"get_args\" initialisiert. Die Bedeutung der einzelnen Parameter wird zu einem späteren Zeitpunkt dieser Arbeit noch erläutert."
      ],
      "metadata": {
        "id": "2mudee-6x9Hn"
      },
      "id": "2mudee-6x9Hn"
    },
    {
      "cell_type": "code",
      "source": [
        "def get_args():\n",
        "    \"\"\"Operatoren durch die das Training verändert werden kann bei Aufruf per Kommandozeile\"\"\"\n",
        "\n",
        "    parser = argparse.ArgumentParser(\"\"\"Deep Q Network for SpaceDodger Game\"\"\")\n",
        "    parser.add_argument(\"--batch_size\", type=int, default=64)\n",
        "    parser.add_argument(\"--learning_rate\", type=float, default=1e-4)\n",
        "    parser.add_argument(\"--gamma\", type=float, default=0.99)\n",
        "    parser.add_argument(\"--epsilon_start\", type=float, default=0.9)\n",
        "    parser.add_argument(\"--epsilon_end\", type=float, default=0.05)\n",
        "    parser.add_argument(\"--epsilon_decay\", type=int, default=500000)\n",
        "    parser.add_argument(\"--num_episodes\", type=int, default=1200)\n",
        "    parser.add_argument(\"--replay_memory_size\", type=int, default=200000)\n",
        "    parser.add_argument(\"--log_path\", type=str, default=\"tensorboard\")\n",
        "    parser.add_argument(\"--saved_path\", type=str, default=\"trained_models\")\n",
        "    parser.add_argument(\"--tau\", type=float, default=0.010)\n",
        "    args = parser.parse_args()\n",
        "    return args"
      ],
      "metadata": {
        "id": "F5AoyAJ1yPMP"
      },
      "id": "F5AoyAJ1yPMP",
      "execution_count": null,
      "outputs": []
    },
    {
      "cell_type": "markdown",
      "source": [
        "Um während des Trainings auch ohne ein gerendertes Bild (zur Vermeidung von zu hoher Auslastung) ein Feedback über die Trainingsperformance zu erhalten, wird noch eine Funktion \"plot_durations\" zur Befüllung des Plots implementiert.Diese zeichnet die Überlebensdauer, ausgedrückt über die Variable \"episode_duration\", auf der Y-Achse auf und zeigt die Anzahl der durchlaufenen Trainingsepisoden auf der X-Achse. Zusätzlich wird alle 100 Episoden der Median der Performance über diese 100 Episoden hinweg aufgezeichnet. Das Plotten geschieht immer nach einer Kollision."
      ],
      "metadata": {
        "id": "IcmvgrkPyUua"
      },
      "id": "IcmvgrkPyUua"
    },
    {
      "cell_type": "code",
      "source": [
        "episode_durations = []\n",
        "\n",
        "def plot_durations(show_result=False):\n",
        "    \"\"\"Erstellt den Matplot während des Trainings um die Performance zu tracken\"\"\"\n",
        "\n",
        "    plt.figure(1)\n",
        "    durations_t = torch.tensor(episode_durations, dtype=torch.float)\n",
        "    if show_result:\n",
        "        plt.title('Ergebnis')\n",
        "    else:\n",
        "        plt.clf()\n",
        "        plt.title('Training...')\n",
        "    plt.xlabel('Episode')\n",
        "    plt.ylabel('Dauer')\n",
        "    plt.plot(durations_t.numpy())\n",
        "    # Take 100 episode averages and plot them too\n",
        "    if len(durations_t) >= 100:\n",
        "        means = durations_t.unfold(0, 100, 1).mean(1).view(-1)\n",
        "        means = torch.cat((torch.zeros(99), means))\n",
        "        plt.plot(means.numpy())\n",
        "\n",
        "    plt.pause(0.001)  # pause a bit so that plots are updated\n",
        "    if is_ipython:\n",
        "        if not show_result:\n",
        "            display.display(plt.gcf())\n",
        "            display.clear_output(wait=True)\n",
        "\n",
        "        else:\n",
        "            display.display(plt.gcf())"
      ],
      "metadata": {
        "id": "7zooCsB2y--j"
      },
      "id": "7zooCsB2y--j",
      "execution_count": null,
      "outputs": []
    },
    {
      "cell_type": "markdown",
      "source": [
        "Die nächste Funktion \"select_action\" spielt eine wesentliche Rolle bei der Entscheidungsfindung des Agenten. Hier wird die bereits bekannte Epsilon-Greedy-Strategie angewendet, um zwischen Erkundung und Ausbeutung zu balancieren. Die Funktion erhält die folgenden vier Parameter:\n",
        "\n",
        "<br>\n",
        "\n",
        "1.   state: der aktuelle Zustand der Umgebung, repräsentiert als Tensor.\n",
        "2.   model: das DQN-Modell zur Vorhersage der Q-Werte\n",
        "3.   opt:   für die Übergabe der relevanten Parameter aus argparse.\n",
        "4.   device: das ausführende Gerät (CPU/GPU) für die Berechnung.\n",
        "\n",
        "<br>\n",
        "\n",
        "\n",
        "In der Epsilon-Greedy-Strategie wird der Wert von Epsilon über die Zeit verringert, um den Übergang von Exploration zu Exploitation zu steuern. Dies wird durch eine Formel erreicht, die Epsilon in Abhängigkeit von der Anzahl der bereits durchgeführten Schritte (steps_done) reduziert. Im Code wird dies durch folgende Zeile realisiert:\n"
      ],
      "metadata": {
        "id": "JC_bQ_9tziAd"
      },
      "id": "JC_bQ_9tziAd"
    },
    {
      "cell_type": "code",
      "source": [
        "eps_threshold = opt.epsilon_end + (opt.epsilon_start - opt.epsilon_end) * \\\n",
        "                math.exp(-1. * steps_done / opt.epsilon_decay)"
      ],
      "metadata": {
        "id": "YKSwciRL0jMf"
      },
      "id": "YKSwciRL0jMf",
      "execution_count": null,
      "outputs": []
    },
    {
      "cell_type": "markdown",
      "source": [
        "Hierbei sind \"opt.epsilon_start\" und \"opt.epsilon_end\" die per argparse übergebenen Start- und Endwerte von Epsilon (Im Standard 0.9 bzw. 0.05). Der Reduktionsfaktor \"opt.epsilon_decay\" (im Standard 500000) bestimmt, wie schnell Epsilon abnimmt. Der Faktor wurde so gewählt, dass das Training über 1200 Episoden hinweg mit einem Epsilon-Endwert nahe 0.05 bzw. 5 Prozent endet.\n",
        "\n",
        "Die Funktion *math.exp(-1 * steps_done / opt.epsilon_decay)* erzeugt einen exponentiellen Abfall von Epsilon. Zu Beginn des Trainings, wenn steps_done klein ist, ist der Wert von \"eps_threshold\" nahe am Startwert \"opt.epsilon_start\". Mit zunehmender Anzahl an Schritten nähert sich \"eps_threshold\" langsam dem Endwert \"opt.epsilon_end\". Die Unterscheidung zwischen Exploration und Exploitation wird durch einen Vergleich einer zufällig generierten Zahl mit dem berechneten \"eps_threshold\" getroffen.\n",
        "\n",
        "Wenn die zufällig generierte Zahl (\"sample\") kleiner oder gleich \"eps_threshold\" ist, wählt die Funktion eine zufällige Aktion aus *(return torch.tensor([[random.randrange(2)]])*. Dies fördert die Erkundung, da der Agent Aktionen ausprobiert, die nicht unbedingt als die besten bekannt sind, wodurch er neue Strategien entdecken kann.\n",
        "\n",
        "Wenn \"sample\" größer als \"eps_threshold\" ist, verwendet die Funktion das DQN-Modell *(model(state).max(1).indices.view(1, 1))*, um die Aktion mit dem höchsten Q-Wert für den aktuellen Zustand auszuwählen. Dies stellt die Ausnutzung des bisher erlernten Wissens dar, da der Agent die Aktion wählt, von der das DQN glaubt, dass sie die beste ist. Im Plot sollte dann ersichtlich sein, dass bei sinkendem Epsilon-Wert die Performance im Durchschnitt steigt. Ist dies nicht der Fall, deutet das auf eine nicht-optimale Strategie hin, die das DQN gelernt hat. Die \"select_action\"-Funktion wird hier nochmal vollständig gezeigt."
      ],
      "metadata": {
        "id": "4Nmu6qlk0mfy"
      },
      "id": "4Nmu6qlk0mfy"
    },
    {
      "cell_type": "code",
      "source": [
        "def select_action(state, model, opt, device):\n",
        "    \"\"\"\n",
        "    Wählt eine Aktion basierend auf dem aktuellen Zustand und dem Epsilon-Greedy-Algorithmus aus.\n",
        "\n",
        "    Parameter:\n",
        "    - state: Der aktuelle Zustand der Umgebung, ein Tensor.\n",
        "    - model: Das trainierte Modell (Deep Q-Network).\n",
        "    - opt: Eine Instanz der Argument-Parser-Klasse mit den Hyperparametern des Modells.\n",
        "    - device: Das Gerät (CPU oder CUDA), auf dem das Modell läuft.\n",
        "\n",
        "    Die Funktion wählt eine Aktion entweder zufällig (um Erkundung zu fördern) oder basierend auf der Vorhersage des Modells (um Ausbeutung zu nutzen).\n",
        "    \"\"\"\n",
        "\n",
        "    global steps_done\n",
        "    sample = random.random()\n",
        "    # Berechnung des Epsilon-Wertes für die Epsilon-Greedy-Strategie\n",
        "    eps_threshold = opt.epsilon_end + (opt.epsilon_start - opt.epsilon_end) * \\\n",
        "                    math.exp(-1. * steps_done / opt.epsilon_decay)\n",
        "    steps_done += 1\n",
        "    if sample > eps_threshold:\n",
        "        # Wählt die beste Aktion basierend auf dem Modell (Ausbeutung)\n",
        "        with torch.no_grad():\n",
        "            return model(state).max(1).indices.view(1, 1)\n",
        "    else:\n",
        "        # Wählt eine zufällige Aktion (Erkundung)\n",
        "        return torch.tensor([[random.randrange(2)]], device=device, dtype=torch.long)"
      ],
      "metadata": {
        "id": "6SAY1d3FzxLI"
      },
      "id": "6SAY1d3FzxLI",
      "execution_count": null,
      "outputs": []
    },
    {
      "cell_type": "markdown",
      "source": [
        "Die zweite zentrale Funktion des Trainings ist die \"optimize_model\" Funktion. Diese führt aus einer Stichprobe des Replay-Memories jeweils einen einzelnen Schritt der Optimierung durch, indem sie den Verlust (oder Fehler) zwischen den vorhergesagten und den gewünschten Q-Werten minimiert.\n",
        "\n",
        "Zuerst zieht die Funktion eine zufällige Stichprobe von Erfahrungen aus dem Replay Memory. Es müssen mindestens 64 Erfahrung gespeichert sein, sonst steigt die Funktion an der Stelle aus (Bestimmung über das Argument \"batch_size\", welches mit 64 im Standard gewählt wird).\n",
        "\n",
        "Wie bereits beschrieben besteht jede gespeicherte Erfahrung aus einem Zustand (s), einer Aktion (a), dem darauffolgenden Zustand (s') sowie einer Belohnung. Die Erfahrungen in der Stichprobe werden in einzelne Tensoren für Zustände, Aktionen, nachfolgende Zustände und Belohnungen aufgeteilt und dann zu jeweils einem Tensor zusammengefasst.\n",
        "\n",
        "Die Optimierungsfunktion berechnet dann zwei Werte [19]:\n",
        "\n",
        "<br>\n",
        "\n",
        "1. Q(st, at): Dies ist der vorhergesagte Q-Wert für den aktuellen Zustand und die ausgeführte Aktion. Es repräsentiert, wie \"gut\" oder wertvoll es ist, diese Aktion im gegebenen Zustand auszuführen.\n",
        "2. V(st+1): Dies ist der Wert des bestmöglichen zukünftigen Zustands, der als maximaler Q-Wert für den nächsten Zustand berechnet wird.\n",
        "\n"
      ],
      "metadata": {
        "id": "55wBz-DU5Mm1"
      },
      "id": "55wBz-DU5Mm1"
    },
    {
      "cell_type": "markdown",
      "source": [
        "Für die Berechnung von Q(st,at) wird das aktuelle Modell (\"model\") verwendet, um die Q-Werte für alle möglichen Aktionen im aktuellen Zustandsbatch (\"state_batch\") zu berechnen. Die Methode *.gather(1, action_batch)* wählt dann aus diesen Q-Werten jene aus, die den im aktuellen Batch ausgeführten Aktionen (\"action_batch\") entsprechen. Dies ergibt die vorhergesagten Q-Werte für die Kombinationen von Zuständen und Aktionen, die in der Stichprobe enthalten sind. Der Codeausschnitt aus der \"optimize_model\"-Funktion ist der nachfolgende."
      ],
      "metadata": {
        "id": "1uaiuvO4AI5k"
      },
      "id": "1uaiuvO4AI5k"
    },
    {
      "cell_type": "code",
      "source": [
        "state_action_values = model(state_batch).gather(1, action_batch)"
      ],
      "metadata": {
        "id": "_7WIHcKD_3dk"
      },
      "id": "_7WIHcKD_3dk",
      "execution_count": null,
      "outputs": []
    },
    {
      "cell_type": "markdown",
      "source": [
        "Für die Berechnung von V(st+1), dem Wert des bestmöglichen zukünftigen Zustands, wird zuerst ein Tensor \"next_state_values\" mit Nullwerten initialisiert. Die Länge dieses Tensors entspricht der Batch-Größe. Die Nullen repräsentieren die Werte für die Zustände, in denen das Spiel endet (da es keine zukünftigen Belohnungen gibt).\n",
        "\n",
        "Dann wird das Zielnetzwerk (\"target_model\") verwendet, um die Q-Werte für die nächsten Zustände zu berechnen. Der Ausdruck *.max(1).values* wählt den maximalen Q-Wert aus diesen Vorhersagen für jeden Zustand aus. Das bedeutet, es wird der beste erwartete Wert für den nächsten Zustand ausgewählt, was V(st+1) entspricht. Diese Werte werden dann in next_state_values eingefügt, aber nur für die Zustände, die nicht das Spielende darstellen (\"non_final_mask\")."
      ],
      "metadata": {
        "id": "K3WEvjzQAxRk"
      },
      "id": "K3WEvjzQAxRk"
    },
    {
      "cell_type": "code",
      "source": [
        "next_state_values = torch.zeros(opt.batch_size, device=device)\n",
        "with torch.no_grad():\n",
        "    next_state_values[non_final_mask] = target_model(non_final_next_states).max(1).values"
      ],
      "metadata": {
        "id": "9lYRuRorABgW"
      },
      "id": "9lYRuRorABgW",
      "execution_count": null,
      "outputs": []
    },
    {
      "cell_type": "markdown",
      "source": [
        "Der Verlust wird als Differenz zwischen diesen beiden Werten berechnet. Wenn der aktuelle Zustand ein Endzustand ist (das Spiel ist beendet), wird der Wert des nächsten Zustands als null angenommen (V(s) = 0), da es keine zukünftigen Belohnungen gibt.\n",
        "\n",
        "Nach der Berechnung des Verlustes aktualisiert die Funktion die Gewichte des neuronalen Netzwerks, um diesen Verlust zu minimieren (*optimizer.zero_grad()*). Dieser Prozess, bekannt als Backpropagation, passt die Gewichte so an, dass das Netzwerk im Laufe der Zeit genauere Vorhersagen über die Q-Werte trifft. Dadurch lernt das DQN, bessere Entscheidungen zu treffen, um maximale Belohnungen zu erzielen. Zuletzt findet auch ein Gradientclipping statt, um Extremwerte zu vermeiden. Die gesamte \"optimize_model\"-Funktion ist nachfolgend dargestellt."
      ],
      "metadata": {
        "id": "mKXulM19__8G"
      },
      "id": "mKXulM19__8G"
    },
    {
      "cell_type": "code",
      "source": [
        "def optimize_model(opt, memory, model, target_model, optimizer, criterion, device):\n",
        "    \"\"\"\n",
        "    Führt eine Optimierungsschritt für das Modell durch, basierend auf einer Stichprobe aus dem Replay Memory.\n",
        "\n",
        "    Parameter:\n",
        "    - opt: Eine Instanz der Argument-Parser-Klasse mit den Hyperparametern des Modells.\n",
        "    - memory: Das Replay Memory, aus dem Erfahrungen gezogen werden.\n",
        "    - model: Das aktuelle Modell (Deep Q-Network), das trainiert wird.\n",
        "    - target_model: Ein separater Ziel-Netzwerk, das zur Stabilisierung des Lernens verwendet wird.\n",
        "    - optimizer: Der Optimierer für das Modell.\n",
        "    - criterion: Das Verlustfunktionskriterium.\n",
        "    - device: Das Gerät (CPU oder CUDA), auf dem das Modell läuft.\n",
        "\n",
        "    Diese Funktion aktualisiert das Modell basierend auf einer Stichprobe von Erfahrungen, um das Verlustkriterium zu minimieren.\n",
        "    \"\"\"\n",
        "\n",
        "    if len(memory) < opt.batch_size:\n",
        "        # Nicht genug Erfahrungen im Memory, um eine Stichprobe zu ziehen .. beenden\n",
        "        return\n",
        "    transitions = memory.sample(opt.batch_size)\n",
        "    batch = Transition(*zip(*transitions))\n",
        "\n",
        "    non_final_mask = torch.tensor(tuple(map(lambda s: s is not None,\n",
        "                                            batch.next_state)), device=device, dtype=torch.bool)\n",
        "    # Trennt die gesammelten Erfahrungen in ihre Bestandteile\n",
        "    non_final_next_states = torch.cat([s for s in batch.next_state if s is not None])\n",
        "    state_batch = torch.cat(batch.state)\n",
        "    action_batch = torch.cat(batch.action)\n",
        "    reward_batch = torch.cat(batch.reward)\n",
        "\n",
        "    # Berechnet den Q-Wert für die aktuellen Zustände und Aktionen\n",
        "    state_action_values = model(state_batch).gather(1, action_batch)\n",
        "    # Berechnet den erwarteten Q-Wert der nächsten Zustände\n",
        "    next_state_values = torch.zeros(opt.batch_size, device=device)\n",
        "    with torch.no_grad():\n",
        "        next_state_values[non_final_mask] = target_model(non_final_next_states).max(1).values\n",
        "    expected_state_action_values = (next_state_values * opt.gamma) + reward_batch\n",
        "    # Berechnet den Verlust zwischen den berechneten Q-Werten und den erwarteten Q-Werten\n",
        "    loss = criterion(state_action_values, expected_state_action_values.unsqueeze(1))\n",
        "    # Führt den Optimierungsschritt durch\n",
        "    optimizer.zero_grad()\n",
        "    loss.backward()\n",
        "\n",
        "    torch.nn.utils.clip_grad_value_(model.parameters(), 100)\n",
        "    optimizer.step()\n",
        "\n",
        "    return loss.item()"
      ],
      "metadata": {
        "id": "Di_tpBBD5uAO"
      },
      "id": "Di_tpBBD5uAO",
      "execution_count": null,
      "outputs": []
    },
    {
      "cell_type": "markdown",
      "source": [
        "Die zuvor beschriebenen Funktionen zur Auswahl einer Aktion und zur Optimierung werden im Rahmen der nun folgenden Trainingsfunktion aufgerufen.\n",
        "\n",
        "Zuerst werden die notwendigen Komponenten für das Training initialisiert. Dazu gehören das Haupt-DQN-Modell, ein separates Zielmodell (Target Model), das Replay Memory, der Optimierer und die Verlustfunktion. Diese Initialisierung umfasst auch die Festlegung der Lernrate und anderer wichtiger Hyperparameter wie der Größe des Replay Memory.\n",
        "\n",
        "Im Code wird die Ausführungsumgebung für das Training bestimmt, welches abhängig von der Verfügbarkeit auf einer CPU oder einer GPU (CUDA) stattfindet.\n",
        "\n",
        "Danach werden die Eingabe- und Ausgabeparameter an das DQN übergeben. Die Anzahl für den Eingabeparameter entspricht der Anzahl der Informationen, die in der \"get_state\" - Funktion aus dem \"main.py\" Skript übergeben wird (in diesem Fall fünf). Die Anzahl der Ausgabeparameter entspricht der Anzahl an Aktionen aus der \"select_action\"-Funktion aus dem \"main.py\" Skript (in diesem dargestellten Fall zwei Aktionen).\n",
        "\n",
        "Außerdem wird die Verlustfunktion (\"criterion\") über den Mean Squared Error (MSE) definiert, um den Unterschied zwischen den vorhergesagten Q-Werten des und den Ziel-Q-Werten zu berechnen. Die Verlustfunktion liefert eine quantitative Bewertung, wie gut oder schlecht das Modell in seiner aktuellen Konfiguration funktioniert. Ein hoher Verlust weist darauf hin, dass das Modell die Q-Werte nicht genau vorhersagt, während ein niedriger Verlust anzeigt, dass das Modell die Realität gut abbildet.\n",
        "\n",
        "Die Anpassung der Gewichtung des DQN kommt über den Optimierer zustande. Dieser verwendet die Informationen aus der Verlustfunktion und leitet darauf basierend ab, in welche Richtung die Gewichte des Modells angepasst werden müssen, um den Verlust in zukünftigen Prognosen zu minimieren. Der hier beschriebene Ausschnitt aus der Trainingsfunktion ist im folgenden Codeblock zu sehen.\n",
        "\n",
        "\n",
        "\n",
        "\n"
      ],
      "metadata": {
        "id": "U9CZPkDW5vAL"
      },
      "id": "U9CZPkDW5vAL"
    },
    {
      "cell_type": "code",
      "source": [
        "def train(opt):\n",
        "    \"\"\"\n",
        "    Haupttrainingsfunktion. Setzt das Training des Deep-Q-Networks mit dem SpaceDodger-Spiel als Umgebung auf.\n",
        "    \"\"\"\n",
        "\n",
        "    # ... Initialisierung von Modellen, Optimierer, Kriterium, Memory ...\n",
        "    device = torch.device(\"cuda\" if torch.cuda.is_available() else \"cpu\")\n",
        "    input_size = 5 # Anzahl der Parameter die in get_state aus main.py übergeben werden\n",
        "    output_size = 2 # Anzahl der Aktionne (links rechts)\n",
        "\n",
        "    writer = SummaryWriter(log_dir=opt.log_path)\n",
        "    model = DeepQNetwork(input_size, output_size).to(device)\n",
        "    target_model = DeepQNetwork(input_size, output_size).to(device)\n",
        "    target_model.load_state_dict(model.state_dict())\n",
        "    target_model.eval()\n",
        "\n",
        "    optimizer = optim.AdamW(model.parameters(), lr=opt.learning_rate, amsgrad=True)\n",
        "    criterion = nn.MSELoss()\n",
        "    memory = ReplayMemory(opt.replay_memory_size)\n",
        "    start_episode = 0"
      ],
      "metadata": {
        "id": "KMlxagZa5vXg"
      },
      "id": "KMlxagZa5vXg",
      "execution_count": null,
      "outputs": []
    },
    {
      "cell_type": "markdown",
      "source": [
        "Bevor die Trainingsschleife startet gibt es noch einen kleinen Einschub, um ggf. existierende gespeicherte und nicht abgeschlossene Trainingsmodelle zu laden. Der checkpoint_path muss noch um die Episode angepasst werden, zu der das Modell gespeichert worden ist (d.h. z.B. space_dodger_checkpoint_1200.pth)."
      ],
      "metadata": {
        "id": "OXCoiGWgs6H-"
      },
      "id": "OXCoiGWgs6H-"
    },
    {
      "cell_type": "code",
      "source": [
        "    checkpoint_path = f\"{opt.saved_path}/space_dodger_checkpoint.pth\"  # zahl noch dahinter\n",
        "    if os.path.exists(checkpoint_path):\n",
        "        checkpoint = torch.load(checkpoint_path)\n",
        "        model.load_state_dict(checkpoint['model_state_dict'])\n",
        "        optimizer.load_state_dict(checkpoint['optimizer_state_dict'])\n",
        "        start_episode = checkpoint['episode']\n",
        "        global steps_done\n",
        "        steps_done = checkpoint.get('steps_done', 0)\n",
        "        loaded_memory = checkpoint.get('replay_memory', [])\n",
        "        for item in loaded_memory:\n",
        "            memory.push(*item)"
      ],
      "metadata": {
        "id": "W5DTLmDhtx60"
      },
      "id": "W5DTLmDhtx60",
      "execution_count": null,
      "outputs": []
    },
    {
      "cell_type": "markdown",
      "source": [
        "Der Trainingsprozess wird über die folgende Schleife initialisiert, wobei *opt.num_episodes* ein frei gewählter Parameter ist, der in der argparse-Funktion festgelegt wurde. Eine höhere Anzahl von Episoden kann für das Training förderlich sein, erfordert aber ggf. auch eine Anpassung des Epsilons und der Lernrate. Mehr Episoden ermöglichen es dem Agenten, die Umgebung gründlicher zu erkunden. Dies ist besonders wichtig in komplexen oder stark variierenden Umgebungen, wo der Agent viele unterschiedliche Szenarien erleben muss, um effektiv zu lernen. In der Konsequenz erhält das DQN robustere Lernergebnisse, da ein breites Spektrum an Erfahrungen gesammelt werden kann. Andererseits bedingen mehr Episoden längere Trainingszeiten und bergen das Risiko von Overfitting. Hier ist der Agent zu stark auf spezifische Szenarien konzentriert und verliert die Fähigkeit, in veränderten Umgebungen gut zu funktionieren.\n",
        "In dieser Ausarbeitung wurde sich nach mehreren Versuchen in einer Range von 100 und 6000 Episoden für eine Laufzeit von 1200 Episoden entschieden. Wesentlich mehr Episoden haben keine signifikante Leistungsverbesserung mehr gezeigt.\n",
        "\n",
        "Jede Episode beginnt mit einem Anfangszustand des Spiels, welches aus der \"get_state\"-Funktion der Umgebung (\"main.py\") extrahiert wird und dann in einen Tensor umgewandelt wird."
      ],
      "metadata": {
        "id": "X1kKdUIQuDv4"
      },
      "id": "X1kKdUIQuDv4"
    },
    {
      "cell_type": "code",
      "source": [
        "    for episode in range(start_episode, opt.num_episodes):\n",
        "        env = SpaceDodgerGame()  # Initialisierung der Spielumgebung\n",
        "        state = env.get_state() # Anfangszustand der Umgebung\n",
        "        state_tensor = torch.tensor([state], dtype=torch.float).to(device) # Umwandlung in Tensor"
      ],
      "metadata": {
        "id": "ebcbTiFguSDw"
      },
      "id": "ebcbTiFguSDw",
      "execution_count": null,
      "outputs": []
    },
    {
      "cell_type": "markdown",
      "source": [
        "Der tatsächliche Trainingprozess findet dann in der nachfolgenden, innenliegenden Schleife statt. Statt der count()-Methode aus dem Paket \"itertools\" hätte auch eine normale \"while\"-Schleife genutzt werden können, dann hätte jedoch noch eine Variable hochgezählt werden müssen, um die Episodenlänge (\"episode_durations\") für den Plot zu tracken.\n",
        "\n",
        "Jede Iteration in dieser Schleife repräsentiert einen Schritt innerhalb einer einzelnen Episode des Spiels. Zu Beginn jedes Schritts wählt das DQN-Modell eine Aktion basierend auf dem aktuellen Zustand des Spiels. Dies erfolgt durch die bereits vorgestellte Funktion select_action, die die Epsilon-Greedy-Strategie verwendet.\n",
        "\n",
        "Die ausgewählte Aktion wird dann in der Spielumgebung angewendet (\"env.step(action.item()\"). Dies führt zur Änderung des Spielzustands und liefert eine Belohnung und eine Information darüber, ob das Spiel beendet ist (in der vorliegenden Ausarbeitung nur durch Kollision möglich).\n",
        "\n",
        "Der aktuelle Zustand, die ausgeführte Aktion, der resultierende neue Zustand und die erhaltene Belohnung werden als Erfahrung im Replay Memory gespeichert (\"memory.push()\"). Dieser Schritt ist wichtig, um später aus einer Stichprobe von Erfahrungen lernen zu können. Anschließend wird die Funktion \"optimize_model\" aufgerufen, um den Verlust zwischen den vorhergesagten Q-Werten und den Ziel-Q-Werten zu berechnen bzw. um die Gewichte des Modells entsprechend anzupassen.\n",
        "\n",
        "Periodisch wird das Zielnetzwerk (Target Model) über den Parameter \"tau\" aktualisiert. Dies ist dann eine sogenannte  \"weiche Aktualisierung\", bei der die Gewichte des Zielnetzwerks langsam an die des Hauptmodells angeglichen werden. Im Gegensatz zu einer \"harten Aktualisierung\", die z.B. alle 10 Episoden stattfindet, kann hier die Stabilität des Lernprozesses erhöht werden.\n",
        "\n",
        "Wenn der Zustand \"done\" wahr ist, was bedeutet, dass das Spiel beendet ist (durch eine Kollision), endet die aktuelle Episode über einen Break. Damit steigt der Code aus der innenliegenden Schleife aus,protokolliert die Dauer der Episode und ruft den Plot auf. Anschließend beginnt die nächste Episode. Dieser Codeausschnitt ist nachfolgend zu sehen."
      ],
      "metadata": {
        "id": "b4D7PbolwNY9"
      },
      "id": "b4D7PbolwNY9"
    },
    {
      "cell_type": "code",
      "source": [
        "        # Schleife für jeden Schritt innerhalb einer Episode\n",
        "        for t in count():\n",
        "            # ... Verarbeitung des nächsten Zustands, Belohnung und Aktualisierung des Modells ...\n",
        "            action = select_action(state_tensor, model, opt, device)\n",
        "            next_state, reward, done = env.step(action.item())\n",
        "            next_state_tensor = None if done else torch.tensor([next_state], dtype=torch.float).to(device)\n",
        "            reward_tensor = torch.tensor([reward], dtype=torch.float).to(device)\n",
        "\n",
        "            memory.push(state_tensor, action, next_state_tensor, reward_tensor)\n",
        "            state_tensor = next_state_tensor\n",
        "\n",
        "            # Optimize model\n",
        "            loss = optimize_model(opt, memory, model, target_model, optimizer, criterion, device)\n",
        "\n",
        "            if loss is not None:\n",
        "                total_loss += loss\n",
        "\n",
        "            total_reward += reward\n",
        "\n",
        "            # Update target network\n",
        "            target_net_state_dict = target_model.state_dict()\n",
        "            policy_net_state_dict = model.state_dict()\n",
        "            for key in policy_net_state_dict:\n",
        "                target_net_state_dict[key] = policy_net_state_dict[key] * opt.tau + target_net_state_dict[key] * (\n",
        "                            1 - opt.tau)\n",
        "            target_model.load_state_dict(target_net_state_dict)\n",
        "\n",
        "            if done:\n",
        "                # Verarbeiten des Episodenendes bei Kollision\n",
        "                episode_durations.append(t + 1)\n",
        "                plot_durations()\n",
        "                break"
      ],
      "metadata": {
        "id": "9d7GhVYvwHQW"
      },
      "id": "9d7GhVYvwHQW",
      "execution_count": null,
      "outputs": []
    },
    {
      "cell_type": "markdown",
      "source": [
        "Der Vollständigkeit halber wird auch noch auf den Schlussteil der Funktion eingengangen. Die erneute Bestimmung der Epsilon-Rate wird hier lediglich für das Tracking in tensorboardX vorgenommen (siehe writer.add).\n",
        "\n",
        "Die Zeilen *env.render* und *env.update_spaceship_animation()* sind optional und ermöglichen das Zeichnen des Spiels in das Pygame-Fenster. Das kann hilfreich sein, um den Agenten tatsächlich auch spielen zu sehen und die ausgewählten Aktionen genauer zu tracken.\n",
        "\n",
        "Alle 100 Episoden (ausgenommen bei der ersten) wird ein Checkpoint gespeichert, dessen Existenz vor Beginn des Trainings im Code abgefragt wird. Nach der letzten Episode und somit nach dem Beenden der äußeren Schleife wird das finale Modell gespeichert. Das Training ist dann beendet. Der Abschluss des Trainingscodes ist im folgenden Block festgehalten."
      ],
      "metadata": {
        "id": "udnZbV5wzJQ6"
      },
      "id": "udnZbV5wzJQ6"
    },
    {
      "cell_type": "code",
      "source": [
        "            eps_rate = opt.epsilon_end + (opt.epsilon_start - opt.epsilon_end) * math.exp(\n",
        "                -1. * steps_done / opt.epsilon_decay)\n",
        "\n",
        "            env.render(action=action) # Kann auskommentiert werden, falls man den Agenten nicht spielen sehen will\n",
        "            env.update_spaceship_animation() # ist nur die Spaceship-Animiation\n",
        "            print(\n",
        "                f\"Episode: {episode + 1}/{opt.num_episodes}, Iteration: {steps_done}, Level: {env.current_level}, Epsilon: {eps_rate:.4f}\")\n",
        "\n",
        "        # Bestimmte Skalarae Werte sollen dauerhaft geloggt werden\n",
        "        average_loss = total_loss / (t + 1)\n",
        "        writer.add_scalar('Episode_duration', t + 1, episode)\n",
        "        writer.add_scalar('Epsilon_rate', eps_rate, episode)\n",
        "        writer.add_scalar('Average_loss', average_loss, episode)\n",
        "        writer.add_scalar('Total_reward', total_reward, episode)\n",
        "\n",
        "        # Häufigkeit des Loggings tracken., damit nicht jede EPisode getrackt wird\n",
        "        if episode % log_interval == 0:\n",
        "            for name, param in model.named_parameters():\n",
        "                writer.add_histogram(f'Episode_{episode}/{name}_grad', param.grad, episode)\n",
        "                writer.add_histogram(f'Episode_{episode}/{name}_weight', param, episode)\n",
        "\n",
        "        # Save checkpoint\n",
        "        if episode % 100 == 0 and episode != 0:\n",
        "            save_checkpoint_path = f\"{opt.saved_path}/space_dodger_checkpoint_{episode}.pth\"\n",
        "            save_checkpoint(model, optimizer, episode, memory, save_checkpoint_path, steps_done)\n",
        "\n",
        "\n",
        "    # Abschließende Schritte nach dem Training, Speichern des fertigen Modells und Tensorboards\n",
        "    torch.save(model.state_dict(), f\"{opt.saved_path}/space_dodger_final.pth\")\n",
        "\n",
        "    writer.close()\n",
        "    print('Complete')\n",
        "    plot_durations(show_result=True)\n",
        "    plt.ioff()\n",
        "    plt.show()\n",
        "\n",
        "\n",
        "if __name__ == \"__main__\":\n",
        "    opt = get_args()\n",
        "    train(opt)"
      ],
      "metadata": {
        "id": "HDa0ekpczIvD"
      },
      "id": "HDa0ekpczIvD",
      "execution_count": null,
      "outputs": []
    },
    {
      "cell_type": "markdown",
      "metadata": {
        "id": "y296SCknL1Dj"
      },
      "source": [
        "<a name=\"test\"></a>\n",
        "## 8. Evaluation und Test"
      ],
      "id": "y296SCknL1Dj"
    },
    {
      "cell_type": "markdown",
      "metadata": {
        "id": "hTSFClKdUzND"
      },
      "source": [
        "Der nachfolgende Plot ist das Ergebnis nach 1200 durchlaufenen Perioden, mit den unter der Funktion \"argparse\" definierten Hyperparametern. Es ist gut ersichtlich, dass gerade in der frühen Phase eine große Varianz innerhalb der einzelnen Episoden (grüne Balken) bestanden hat. Das ist durch die starke anfängliche Exploration des Agenten bedingt.\n",
        "Die rote Linie, welche den gleitenden Durchschnitt über alle 100 Episoden anzeigt, lässt einen aufwärts gerichteten Trend erkennen. Das deutet darauf hin, dass die Leistung des Agenten im Laufe der Zeit verbessert wird, da er lernt, Aktionen auszuführen, die die Episode verlängern.\n",
        "\n",
        "Trotz des allgemein positiven Trends gibt es aber auch in den späten Episoden eine hohe Varianz in der Leistung, die darauf hinweist, dass der Agent ggf. im Rahmen der Exploration nicht die optimale Politik gefunden hat. Der Grund dafür widerrum kann in suboptimal gesetzten Parametern (zu langsame/schnelle Lernrate, zu langsamer/schneller Epsilonverfall) liegen, oder auf eine grundsätzliche Unzulänglichkeit im DQN (nicht komplex genug, suboptimale Netzwerkart) zurückzuführen sein. Denkbar ist auch, dass die Art des Belohnungssystems, oder die Anzahl der an das DQN übergebenen Statusparameter nicht ausgereift genug waren.\n",
        "\n",
        "Am Ende scheint es im Plot auch eine Art Plateau (mit Leistungsabfall) zu geben, was möglicherweise auf eine Leistungsgrenze des Agenten hinweist.\n",
        "\n",
        "Diese Grenze hängt potentiell auch mit dem Design des Spiels selbst zusammen - da die Asteroiden immer schneller werden, das Raumschiff aber nicht, gibt es natürlicherweise an einer bestimmten Stelle (üblicherweise Level 30+) immer eine Kollision.\n",
        "\n",
        "![performance.png](data:image/png;base64,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)"
      ],
      "id": "hTSFClKdUzND"
    },
    {
      "cell_type": "markdown",
      "source": [
        "Um das gespeicherte, über 1200 Episoden trainierte Modell jederzeit testen zu können, wird abschließend noch das fünfte Skript \"test.py\" implementiert.\n",
        "\n",
        "Im Rahmen der Initialisierung werden wieder die notwendigen Pakete geladen und die Standardargumente definiert. In diesem Fall sind es die folgenden zwei:\n",
        "\n",
        "\n",
        "\n",
        "*   der Pfad des gespeicherten Modells\n",
        "*   die Anzahl der Episoden, über die das Modell getestet werden soll.\n",
        "\n",
        "\n"
      ],
      "metadata": {
        "id": "fXNwRNd82UI1"
      },
      "id": "fXNwRNd82UI1"
    },
    {
      "cell_type": "code",
      "source": [
        "import argparse\n",
        "import torch\n",
        "from main import SpaceDodgerGame\n",
        "import pygame\n",
        "from model import DeepQNetwork\n",
        "import os\n",
        "\n",
        "def get_args():\n",
        "    \"\"\"\n",
        "    Definiert und holt die Befehlszeilenargumente für das Testskript.\n",
        "    --saved_path: Pfad zum Verzeichnis, in dem das trainierte Modell gespeichert ist.\n",
        "    --num_episodes: Anzahl der Episoden, über die das Modell getestet wird.\n",
        "    \"\"\"\n",
        "    parser = argparse.ArgumentParser(\"\"\"Testet das Deep Q Network im SpaceDodger-Spiel\"\"\")\n",
        "    parser.add_argument(\"--saved_path\", type=str, default=\"trained_models\")\n",
        "    parser.add_argument(\"--num_episodes\", type=int, default=10)  # Standardmäßig 10 Episoden\n",
        "    args = parser.parse_args()\n",
        "    return args"
      ],
      "metadata": {
        "id": "N3D12ZdL23pH"
      },
      "id": "N3D12ZdL23pH",
      "execution_count": null,
      "outputs": []
    },
    {
      "cell_type": "markdown",
      "source": [
        "Daraufhin folgt die eigentliche Testfunktion, welche zu Beginn wie beim Training die Input- und Outputparameter definiert, das Gerät für die Kalkulation wählt und das gespeicherte Modell einlädt.\n",
        "\n",
        "Die Zeile *model.eval()*, versetzt das Modell in einen Zustand, der konsistente, von Trainingsvariablen unabhängige Vorhersagen liefert, was die Bewertung der Modellperformance robuster macht.\n",
        "\n",
        "Aufgrund des gewählten DQN der vorliegenden Arbeit ist die Zeile eher optionaler Natur, da wir weder Dropout-Layer haben, noch eine Batch-Normalization betreiben. Stattdessen wurde hier mit vollständig verbundenen Schichten (\"nn.Linear\") gearbeitet, die keinen unterschiedlichen Modus für Test und Training benötigen.\n",
        "\n",
        "Die Funktion durchläuft dann die Anzahl von Episoden, die durch *opt.num_episodes *festgelegt worden ist. Für jede Episode wird eine neue Instanz des Spiels erstellt und das Spiel wird auf den Anfangszustand zurückgesetzt.\n",
        "\n",
        "Innerhalb der inneren Schleife (diesmal eine \"While\"-Schleife) wird der aktuelle Zustand des Spiels genommen, um mit dem Modell die beste Aktion vorherzusagen. Dies geschieht unter Verwendung von torch.no_grad(), was bedeutet, dass keine Gradienten berechnet werden, da das Modell nicht weiter trainiert, sondern nur evaluiert wird.\n",
        "\n",
        "Die vorhergesagte Aktion wird dann im Spiel ausgeführt (\"game.step(action)\"), was den Spielzustand aktualisiert und Informationen darüber liefert, ob das Spiel beendet ist."
      ],
      "metadata": {
        "id": "Va3xms_7285I"
      },
      "id": "Va3xms_7285I"
    },
    {
      "cell_type": "code",
      "source": [
        "def test(opt):\n",
        "    \"\"\"\n",
        "    Testet das trainierte Deep Q-Network-Modell im SpaceDodger-Spiel mit der definierten ANzahl Episoden\n",
        "    \"\"\"\n",
        "    input_size = 5  # Größe des Eingabevektors\n",
        "    output_size = 2  # Größe des Ausgabevektors\n",
        "\n",
        "    device = torch.device(\"cuda\" if torch.cuda.is_available() else \"cpu\")\n",
        "    model = DeepQNetwork(input_size, output_size).to(device)\n",
        "\n",
        "    model_path = f\"{opt.saved_path}/space_dodger_final.pth\"\n",
        "    if os.path.exists(model_path):\n",
        "        model_state = torch.load(model_path, map_location=device)\n",
        "        model.load_state_dict(model_state)\n",
        "        print(\"Modellgewichte erfolgreich geladen.\")\n",
        "    else:\n",
        "        print(\"Kein gespeichertes Modell gefunden. Bitte überprüfen Sie den Pfad.\")\n",
        "        return\n",
        "\n",
        "    model.eval()  # Modell in den Evaluierungsmodus setzen\n",
        "\n",
        "    for episode in range(opt.num_episodes):  # Schleife über die gewünschte Anzahl an Episoden\n",
        "        game = SpaceDodgerGame()  # Erstellt eine neue Instanz des Spiels\n",
        "        state = game.reset()  # Setzt das Spiel zurück und erhält den Anfangszustand\n",
        "\n",
        "        while True:\n",
        "            state_tensor = torch.tensor([state], dtype=torch.float).to(device)\n",
        "            with torch.no_grad():\n",
        "                prediction = model(state_tensor)\n",
        "            action = torch.argmax(prediction).item()\n",
        "\n",
        "            next_state, _, done = game.step(action)  # Führt die gewählte Aktion im Spiel aus\n",
        "\n",
        "            state = next_state\n",
        "\n",
        "            pygame.display.flip()  # Aktualisiert das Spiel-Display\n",
        "            game.render(action)  # Zeichnet das Spiel mit der gewählten Aktion\n",
        "\n",
        "            for event in pygame.event.get():\n",
        "                if event.type == pygame.QUIT:\n",
        "                    pygame.quit()\n",
        "                    return\n",
        "\n",
        "            if done:  # Überprüft, ob die Episode beendet ist\n",
        "                break\n",
        "\n",
        "        print(f\"Episode {episode + 1} abgeschlossen.\")\n",
        "\n",
        "if __name__ == \"__main__\":\n",
        "    opt = get_args()\n",
        "    test(opt)\n"
      ],
      "metadata": {
        "id": "ApCGqqC426Up"
      },
      "id": "ApCGqqC426Up",
      "execution_count": null,
      "outputs": []
    },
    {
      "cell_type": "markdown",
      "metadata": {
        "id": "q1Fkrw0urzGE"
      },
      "source": [
        "<a name=\"fazit\"></a>\n",
        "## 9. Fazit\n",
        "\n",
        "In der vorliegenden Hausarbeit wurde das Spiel \"SpaceDodger\" als Testumgebung für die Anwendung von Reinforcement Learning (RL) mit einem Deep Q-Network (DQN) als grundlegendes Lernmodell verwendet. Durch die Implementierung und das Training des DQN konnte der Agent erfolgreich lernen, das Spiel zu spielen, indem er eine zielführende (wenn auch nicht perfekte) Strategie zur Steigerung der kumulativen Belohnung durch Interaktion mit der Umgebung erlernte. Die Anwendung von Techniken wie Replay Memory Epsilon-Greedy-Strategie und \"soft-Aktualisierung\" des Zielnetzwerks trug zur Stabilität des Lernprozesses bei und förderte eine effiziente Exploration des Zustandsraums.\n",
        "\n",
        "Dennoch gibt es Raum für potentielle Verbesserungen. Das DQN verwendet derzeit  vollständig verbundene Schichten, die zwar eine solide Leistung zeigen, aber möglicherweise nicht die beste Wahl für die Verarbeitung visueller Eingaben sind. Die Nutzung von Convolutional Neural Networks (CNNs) könnte die Fähigkeit des Modells verbessern, wichtige visuelle Merkmale aus den Spielbildern zu extrahieren und zu einer feineren Entscheidungsfindung beitragen. Das zeigen auch vergleichbare Arbeiten, bei denen beispielsweise das Spiel \"Flappy Bird\" durch ein CNN sehr erfolgreich (wenngleich über eine enorme Anzahl von Episoden) trainiert worden ist. Weiterhin könnte anstelle des \"klassischen\" Replay Memory auch ein priorisiertes Experience Replay verwendet werden, um dem Agenten zu ermöglichen, von wichtigeren oder selteneren Erfahrungen schneller zu lernen, indem diese Erfahrungen mit höherer Wahrscheinlichkeit erneut abgerufen werden. Um Problemen wie der Überbewertung von Q-Werten entgegenzuwirken, könnten Variationen des DQN wie Double DQN oder Dueling DQN implementiert werden, die eine stabilere und zuverlässigere Schätzung der Q-Werte bieten - oblgeich für diese DQNs vermutlich die Anzahl der Trainingsepisoden stark erhöht werden müsste, bis ein spürbarer Effekt eintritt.\n",
        "\n",
        "Insgesamt bestätigen die Ergebnisse dieser Ausfertigung das grundlegende Potenzial von DQN im Bereich des Reinforcement Learnings und bieten einen wertvollen Ausgangspunkt für weitere Forschung und Entwicklung. Zukünftige Arbeiten könnten die genannten Verbesserungen untersuchen, um die Grenzen des aktuellen Modells zu erweitern und die Effizienz und Effektivität des Agenten weiter zu steigern."
      ],
      "id": "q1Fkrw0urzGE"
    },
    {
      "cell_type": "markdown",
      "metadata": {
        "id": "32afaba8"
      },
      "source": [
        "<a name=\"literatur\"></a>\n",
        "## 10. Literaturverzeichnis"
      ],
      "id": "32afaba8"
    },
    {
      "cell_type": "markdown",
      "metadata": {
        "id": "ab5ec990"
      },
      "source": [
        "[1] Pygame Dokumentation, Link: https://www.pygame.org/docs/<br><br>\n",
        "[2] Pytorch Dokumentation, Link: https://pytorch.org/docs/stable/index.html<br><br>\n",
        "[3] Pytorch Tutorial, Link: https://pytorch.org/tutorials/intermediate/reinforcement_q_learning.html<br><br>\n",
        "[4] Vishnu, S., Yogesh, S., Mitchell, L.,*Deep Learning with\n",
        "PyTorch 1.x*, Seite 228, 2019<br><br>\n",
        "[5] Odemakinde, E., *Model-Based and Model-Free Reinforcement Learning: Pytennis Case Study*, Link: https://neptune.ai/blog/model-based-and-model-free-reinforcement-learning-pytennis-case-study, 2023<br><br>\n",
        "[6]  Suran, A., *On-Policy v/s Off-Policy Learning*, Link: https://towardsdatascience.com/on-policy-v-s-off-policy-learning-75089916bc2f, 2020<br><br>\n",
        "[7] Ebd.<br><br>\n",
        "[8] Torres, J., *The Bellman Equation\n",
        "V-function and Q-function Explained*, Link: https://towardsdatascience.com/the-bellman-equation-59258a0d3fa7, 2020<br><br>\n",
        "[9] Modasara, B., *Reinforcement Learning – Beispiel aus der Praxis und Framework*, Link: https://www.alexanderthamm.com/de/blog/reinforcement-learning-framework-und-anwendungsbeispiel/, 2023<br><br>\n",
        "[10] Gomede, E., *Deep Q-Networks (DQN): Bridging the Gap between Deep Learning and Reinforcement Learning*, Link: https://medium.com/@evertongomede/deep-q-networks-dqn-bridging-the-gap-between-deep-learning-and-reinforcement-learning-5cd73d644c7, 2013<br><br>\n",
        "[11] Vishnu, S., Yogesh, S., Mitchell, L.,*Deep Learning with\n",
        "PyTorch 1.x*, Seite 248, 2019<br><br>\n",
        "[12] Laskin, M., *Practical tips for training Deep Q Networks*, Link: https://www.anyscale.com/blog/practical-tips-for-training-deep-q-networks, 2022<br><br>\n",
        "[13] Moghadam, P., *Deep Reinforcement learning: DQN, Double DQN, Dueling DQN, Noisy DQN and DQN with Prioritized Experience Replay*, Link: https://medium.com/@parsa_h_m/deep-reinforcement-learning-dqn-double-dqn-dueling-dqn-noisy-dqn-and-dqn-with-prioritized-551f621a9823, 2019<br><br>\n",
        "[14] Deeplizard, Link: https://deeplizard.com/learn/video/wrBUkpiRvCA, 2018<br><br>\n",
        "[15] Ebd.<br><br>\n",
        "[16] Data Base Camp, *Was ist die ReLU-Funktion (Rectified Linear Unit)?*, Link: https://databasecamp.de/ki/relu#:~:text=Die%20Rectified%20Linear%20Unit%20(ReLU,negative%20Werte%20auf%20Null%20setzt., 2023<br><br>\n",
        "[17] Baeldung, *Epsilon-Greedy Q-learning*, Link: https://www.baeldung.com/cs/epsilon-greedy-q-learning, 2023<br><br>"
      ],
      "id": "ab5ec990"
    },
    {
      "cell_type": "markdown",
      "metadata": {
        "id": "263ca7f3"
      },
      "source": [
        "## <a name=\"eigenständigkeitserklärung\"></a>\n",
        "## 11. Eigenständigkeitserklärung"
      ],
      "id": "263ca7f3"
    },
    {
      "cell_type": "markdown",
      "metadata": {
        "id": "CLKWebnUm1PP"
      },
      "source": [
        "![Unterschrift2.png](data:image/png;base64,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)\n",
        "\n"
      ],
      "id": "CLKWebnUm1PP"
    }
  ],
  "metadata": {
    "colab": {
      "provenance": [],
      "toc_visible": true
    },
    "kernelspec": {
      "display_name": "Python 3 (ipykernel)",
      "language": "python",
      "name": "python3"
    },
    "language_info": {
      "codemirror_mode": {
        "name": "ipython",
        "version": 3
      },
      "file_extension": ".py",
      "mimetype": "text/x-python",
      "name": "python",
      "nbconvert_exporter": "python",
      "pygments_lexer": "ipython3",
      "version": "3.10.8"
    },
    "varInspector": {
      "cols": {
        "lenName": 16,
        "lenType": 16,
        "lenVar": 40
      },
      "kernels_config": {
        "python": {
          "delete_cmd_postfix": "",
          "delete_cmd_prefix": "del ",
          "library": "var_list.py",
          "varRefreshCmd": "print(var_dic_list())"
        },
        "r": {
          "delete_cmd_postfix": ") ",
          "delete_cmd_prefix": "rm(",
          "library": "var_list.r",
          "varRefreshCmd": "cat(var_dic_list()) "
        }
      },
      "types_to_exclude": [
        "module",
        "function",
        "builtin_function_or_method",
        "instance",
        "_Feature"
      ],
      "window_display": false
    }
  },
  "nbformat": 4,
  "nbformat_minor": 5
}